{
 "cells": [
  {
   "cell_type": "code",
   "execution_count": null,
   "id": "e2bd66fd",
   "metadata": {},
   "outputs": [],
   "source": [
    "# 1. Write a NumPy program to convert a list of numeric value into a one-dimensional NumPy array.\n",
    "\n",
    "import numpy as np\n",
    "l = [12.23, 13.32, 100, 36.32]\n",
    "print(\"Original List:\",l)\n",
    "a = np.array(l)\n",
    "print(\"One-dimensional array: \", a)"
   ]
  },
  {
   "cell_type": "code",
   "execution_count": null,
   "id": "e4ed43b0",
   "metadata": {},
   "outputs": [],
   "source": [
    "# 2.Write a NumPy program to create a 3x3 matrix with values ranging from 2 to 10.\n",
    "\n",
    "import numpy as np\n",
    "a = np.arange(0,9).reshape(3,3)\n",
    "print(a)"
   ]
  },
  {
   "cell_type": "code",
   "execution_count": null,
   "id": "4cc7b37e",
   "metadata": {},
   "outputs": [],
   "source": [
    "# 3. Write a NumPy program to create a null vector of size 10 and update sixth value to 11.\n",
    "\n",
    "import numpy as np\n",
    "a = np.zeros(10)\n",
    "print(a)\n",
    "print(\"Update sixth value to 6\")\n",
    "a[6] = 6\n",
    "print(a)"
   ]
  },
  {
   "cell_type": "code",
   "execution_count": null,
   "id": "5e7912b3",
   "metadata": {},
   "outputs": [],
   "source": [
    "# 4. Write a NumPy program to create an array with values ranging from 12 to 38.\n",
    "\n",
    "import numpy as np\n",
    "a = np.arange(0, 10)\n",
    "print(a)"
   ]
  },
  {
   "cell_type": "code",
   "execution_count": null,
   "id": "89b42675",
   "metadata": {},
   "outputs": [],
   "source": [
    "# 5. Write a NumPy program to reverse an array (first element becomes last).\n",
    "\n",
    "import numpy as np\n",
    "import numpy as np\n",
    "a = np.arange(12, 38)\n",
    "print(\"Original array:\")\n",
    "print(a)\n",
    "print(\"Reverse array:\")\n",
    "a = a[::-1]\n",
    "print(a)"
   ]
  },
  {
   "cell_type": "code",
   "execution_count": null,
   "id": "94892d69",
   "metadata": {},
   "outputs": [],
   "source": [
    "# 6. Write a NumPy program to convert an array to a float type. \n",
    "\n",
    "import numpy as np\n",
    "import numpy as np\n",
    "a = [1, 2, 3, 4]\n",
    "print(\"Original array :\")\n",
    "print(a)\n",
    "b = np.asfarray(a)\n",
    "print(\"Array float values :\")\n",
    "print(b)"
   ]
  },
  {
   "cell_type": "code",
   "execution_count": null,
   "id": "a6209821",
   "metadata": {},
   "outputs": [],
   "source": [
    "# 7. Write a NumPy program to create a 2d array with 1 on the border and 0 inside.\n",
    "\n",
    "import numpy as np\n",
    "a = np.ones((5,5))\n",
    "print(\"Original array :\")\n",
    "print(a)\n",
    "print(\"1 on the border and 0 inside in the array :\")\n",
    "a[1:-1,1:-1] = 0\n",
    "print(a)"
   ]
  },
  {
   "cell_type": "code",
   "execution_count": null,
   "id": "4993a57b",
   "metadata": {},
   "outputs": [],
   "source": [
    "# 8. Write a NumPy program to add a border (filled with 0&#39;s) around an existing array.\n",
    "\n",
    "import numpy as np\n",
    "a = np.ones((3,3))\n",
    "print(\"Original array :\")\n",
    "print(a)\n",
    "print(\"0 on the border and 1 inside in the array :\")\n",
    "a = np.pad(a, pad_width=1, mode='constant', constant_values=0)\n",
    "print(a)"
   ]
  },
  {
   "cell_type": "code",
   "execution_count": null,
   "id": "0f95d568",
   "metadata": {},
   "outputs": [],
   "source": [
    "# 9. Write a NumPy program to create a 8x8 matrix and fill it with a heckerboard pattern.\n",
    "\n",
    "import numpy as np\n",
    "a = np.ones((3,3))\n",
    "print(\"Checkerboard pattern :\")\n",
    "a = np.zeros((8,8),dtype=int)\n",
    "a[1::2,::2] = 1\n",
    "a[::2,1::2] = 1\n",
    "print(a)"
   ]
  },
  {
   "cell_type": "code",
   "execution_count": null,
   "id": "fbb2017a",
   "metadata": {},
   "outputs": [],
   "source": [
    "# 10. Write a NumPy program to convert a list and tuple into arrays.\n",
    "\n",
    "import numpy as np\n",
    "l = [1, 2, 3, 4, 5, 6]\n",
    "print(\"List to array :\")\n",
    "print(np.asarray(l))\n",
    "t = ([1, 2, 3], [4, 5, 6])\n",
    "print(\"Tuple to array :\")\n",
    "print(np.asarray(t))"
   ]
  },
  {
   "cell_type": "code",
   "execution_count": null,
   "id": "e003015c",
   "metadata": {},
   "outputs": [],
   "source": [
    "# 11. Write a NumPy program to append values to the end of an array.\n",
    "\n",
    "import numpy as np\n",
    "a = [10, 20, 30]\n",
    "print(\"Original array :\")\n",
    "print(a)\n",
    "a = np.append(a, [[40, 50, 60], [70, 80, 90]])\n",
    "print(\"Append values to the end of the array :\")\n",
    "print(a)"
   ]
  },
  {
   "cell_type": "code",
   "execution_count": null,
   "id": "52e7acbb",
   "metadata": {},
   "outputs": [],
   "source": [
    "# 12. Write a NumPy program to create an empty and a full array.\n",
    "\n",
    "import numpy as np\n",
    "a = np.empty((3,3))\n",
    "print(a)\n",
    "b = np.full((3,3),0)\n",
    "print(b)"
   ]
  },
  {
   "cell_type": "code",
   "execution_count": null,
   "id": "3e750018",
   "metadata": {},
   "outputs": [],
   "source": [
    "# 13. Write a NumPy program to convert the values of Centigrade degrees into Fahrenheit degrees. Centigrade values are stored into a NumPy array.\n",
    "\n",
    "import numpy as np\n",
    "values = [0, 12, 45.21, 34, 99.91]\n",
    "F = np.array(values)\n",
    "print(\"Values in Fahrenheit :\")\n",
    "print(F)\n",
    "print(\"Values in Centigrade :\")\n",
    "print(5*F/9 - 5*32/9)"
   ]
  },
  {
   "cell_type": "code",
   "execution_count": null,
   "id": "2beca0ce",
   "metadata": {},
   "outputs": [],
   "source": [
    "# 14. Write a NumPy program to find the real and imaginary parts of an array of complex numbers.\n",
    "\n",
    "import numpy as np\n",
    "x = np.sqrt([1+0j])\n",
    "y = np.sqrt([0+1j])\n",
    "print(\"Original array :x \",x)\n",
    "print(\"Original array :y \",y)\n",
    "print(\"Real part of the array :\")\n",
    "print(x.real)\n",
    "print(y.real)\n",
    "print(\"Imaginary part of the array :\")\n",
    "print(x.imag)\n",
    "print(y.imag)"
   ]
  }
 ],
 "metadata": {
  "kernelspec": {
   "display_name": "Python 3 (ipykernel)",
   "language": "python",
   "name": "python3"
  },
  "language_info": {
   "codemirror_mode": {
    "name": "ipython",
    "version": 3
   },
   "file_extension": ".py",
   "mimetype": "text/x-python",
   "name": "python",
   "nbconvert_exporter": "python",
   "pygments_lexer": "ipython3",
   "version": "3.11.5"
  }
 },
 "nbformat": 4,
 "nbformat_minor": 5
}
