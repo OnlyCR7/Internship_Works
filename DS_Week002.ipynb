{
 "cells": [
  {
   "cell_type": "code",
   "execution_count": 1,
   "id": "e379bf2e",
   "metadata": {},
   "outputs": [],
   "source": [
    "#1. Write a Python program to sum all the items in a list.\n",
    "\n",
    "def sum_of(mylist):\n",
    "    sum = 0\n",
    "    for i in mylist:\n",
    "        sum += i\n",
    "    return sum\n",
    "\n",
    "print(\"Sum of list elements are :\" , sum_of([1,2,3,4,5,6,7,8,9]))"
   ]
  },
  {
   "cell_type": "code",
   "execution_count": 2,
   "id": "34eae818",
   "metadata": {},
   "outputs": [],
   "source": [
    "#2. Write a Python program to multiplies all the items in a list\n",
    "\n",
    "def mul_of(mylist):\n",
    "    sum = 1\n",
    "    for i in mylist:\n",
    "        sum *= i\n",
    "    return sum\n",
    "\n",
    "print(\"Sum of list elements are :\" , mul_of([1,2,3,4,5,6,7,8,9]))"
   ]
  },
  {
   "cell_type": "code",
   "execution_count": 3,
   "id": "f681d5c7",
   "metadata": {},
   "outputs": [],
   "source": [
    "#3. Write a Python program to get the largest number from a list.\n",
    "\n",
    "mylist = [1,2,3,4,5,6]\n",
    "print(\"Largest element in the list is :\" , max(mylist))"
   ]
  },
  {
   "cell_type": "code",
   "execution_count": 4,
   "id": "0c2c6783",
   "metadata": {},
   "outputs": [],
   "source": [
    "#4. Write a Python program to get the smallest number from a list.\n",
    "\n",
    "mylist = [1,2,3,4,5,6]\n",
    "print(\"Smallest element in the list is :\" , min(mylist))"
   ]
  },
  {
   "cell_type": "code",
   "execution_count": 5,
   "id": "8b59a2c3",
   "metadata": {},
   "outputs": [],
   "source": [
    "#5. Write a Python program to count the number of strings where the string length is 2 or more and the first and last character are same from a given list of strings. \n",
    "\n",
    "def matching_words(words):\n",
    "    count = 0\n",
    "    for word in words:\n",
    "        if len(word) > 1 and word[0] == word[-1]:\n",
    "            count += 1\n",
    "    return count\n",
    "\n",
    "print(matching_words(['abc' , 'xyz' , 'abc' , 'xyz']))"
   ]
  },
  {
   "cell_type": "code",
   "execution_count": 6,
   "id": "114ee58d",
   "metadata": {},
   "outputs": [],
   "source": [
    "#6. Write a Python program to get a list, sorted in increasing order by the last element in each tuple from a given list of non-empty tuples.\n",
    "\n",
    "def sort_element(tuple_list):\n",
    "    sort_list = sorted(tuple_list, key=lambda x: x[-1])\n",
    "    return sort_list\n",
    "\n",
    "tuple_list = [(1,2),(3,2),(4,6),(9,3)]\n",
    "print(\"Sorted List :\", sort_element(tuple_list))"
   ]
  },
  {
   "cell_type": "code",
   "execution_count": 7,
   "id": "da837b2b",
   "metadata": {},
   "outputs": [],
   "source": [
    "#7. Write a Python program to remove duplicates from a list.\n",
    "\n",
    "def to_remove_duplicates(mylist):\n",
    "    unique_list = list(set(mylist))\n",
    "    return unique_list\n",
    "\n",
    "mylist = [1,2,3,4,5,6,6,5,4]\n",
    "print(\"List of removing duplicates :\", to_remove_duplicates(mylist))"
   ]
  },
  {
   "cell_type": "code",
   "execution_count": 8,
   "id": "04ffc634",
   "metadata": {},
   "outputs": [],
   "source": [
    "#8. Write a Python program to check a list is empty or not.\n",
    "\n",
    "mylist = []\n",
    "if not mylist:\n",
    "    print(\"List is empty.\")"
   ]
  },
  {
   "cell_type": "code",
   "execution_count": 9,
   "id": "663d9446",
   "metadata": {},
   "outputs": [],
   "source": [
    "#9. Write a Python program to clone or copy a list.\n",
    "\n",
    "original_list = [1,2,3,4,5,6,7,8,9]\n",
    "new_list = list(original_list)\n",
    "\n",
    "print(new_list)"
   ]
  },
  {
   "cell_type": "code",
   "execution_count": 10,
   "id": "e929f657",
   "metadata": {},
   "outputs": [],
   "source": [
    "#10. Write a Python program to find the list of words that are longer than n from a given list of words.\n",
    "\n",
    "def filter_words(mylist, n):\n",
    "    long_words = [word for word in word_list if len(word) > n]\n",
    "    return long_words\n",
    "\n",
    "word_list = [\"apple banana orange grape watermelon kiwi\"]\n",
    "length = 5\n",
    "\n",
    "result = filter_words(word_list, length)\n",
    "print(\"Longer words :\" , filter_words(word_list, length))"
   ]
  },
  {
   "cell_type": "code",
   "execution_count": 11,
   "id": "bcad0b3e",
   "metadata": {},
   "outputs": [],
   "source": [
    "#11. Write a Python function that takes two lists and returns True if they have at least one common member.\n",
    "\n",
    "def common_data(list1, list2):\n",
    "    result = False\n",
    "    for x in list1:\n",
    "        for y in list2:\n",
    "            if x == y:\n",
    "                result = True\n",
    "    return result\n",
    "\n",
    "print(common_data([1,2,3,4,5], [5,6,7,8,9]))"
   ]
  },
  {
   "cell_type": "code",
   "execution_count": 12,
   "id": "551009a0",
   "metadata": {},
   "outputs": [],
   "source": [
    "#12. Write a Python program to print a specified list after removing the 0th, 4th and 5th elements.\n",
    "\n",
    "color = ['Red', 'Green', 'White', 'Black', 'Pink', 'Yellow']\n",
    "color = [x for (i,x) in enumerate(color) if i not in (0,4,5)]\n",
    "print(color)"
   ]
  }
 ],
 "metadata": {
  "kernelspec": {
   "display_name": "Python 3 (ipykernel)",
   "language": "python",
   "name": "python3"
  },
  "language_info": {
   "codemirror_mode": {
    "name": "ipython",
    "version": 3
   },
   "file_extension": ".py",
   "mimetype": "text/x-python",
   "name": "python",
   "nbconvert_exporter": "python",
   "pygments_lexer": "ipython3",
   "version": "3.11.5"
  }
 },
 "nbformat": 4,
 "nbformat_minor": 5
}
