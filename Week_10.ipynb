{
 "cells": [
  {
   "cell_type": "code",
   "execution_count": null,
   "id": "66f40c94",
   "metadata": {},
   "outputs": [],
   "source": [
    "import numpy as np\n",
    "import pandas as pd\n",
    "import matplotlib.pyplot as plt\n",
    "import seaborn as sns\n",
    "import os"
   ]
  },
  {
   "cell_type": "code",
   "execution_count": null,
   "id": "c4e34078",
   "metadata": {},
   "outputs": [],
   "source": [
    "os.chdir (\"\")\n",
    "df1= pd.read_excel(\"Data Preprocessing Data File.xlsx\")\t\n",
    "print (df1)"
   ]
  },
  {
   "cell_type": "code",
   "execution_count": null,
   "id": "11457541",
   "metadata": {},
   "outputs": [],
   "source": [
    "x = df1.iloc[:,:-1].values\n",
    "print (x)"
   ]
  },
  {
   "cell_type": "code",
   "execution_count": null,
   "id": "3aa71879",
   "metadata": {},
   "outputs": [],
   "source": [
    "y = df1.iloc[:,3].values\n",
    "print (y)"
   ]
  },
  {
   "cell_type": "code",
   "execution_count": null,
   "id": "ff76a8f7",
   "metadata": {},
   "outputs": [],
   "source": [
    "from sklearn.impute import SimpleImputer\n",
    "imputer = SimpleImputer(missing_values=np.nan, strategy='most_frequent')\n",
    "imputer = imputer.fit(x[:,0:1])\n",
    "x [:,0:1]= imputer.transform(x[:,0:1])\n",
    "print (x)"
   ]
  },
  {
   "cell_type": "code",
   "execution_count": null,
   "id": "f8ab01e3",
   "metadata": {},
   "outputs": [],
   "source": [
    "from sklearn.impute import SimpleImputer\n",
    "imputer = SimpleImputer(missing_values=np.nan, strategy='constant', fill_value=40)\n",
    "imputer = imputer.fit(x[:,1:2])\n",
    "x [:,1:2]= imputer.transform(x[:,1:2])\n",
    "print (x)"
   ]
  },
  {
   "cell_type": "code",
   "execution_count": null,
   "id": "b49eaefa",
   "metadata": {},
   "outputs": [],
   "source": [
    "from sklearn.impute import SimpleImputer\n",
    "imputer = SimpleImputer(missing_values=np.nan, strategy='mean')\n",
    "imputer = imputer.fit(x[:,2:3])\n",
    "x [:,2:3]= imputer.transform(x[:,2:3])\n",
    "print (x)"
   ]
  },
  {
   "cell_type": "code",
   "execution_count": null,
   "id": "2a625af6",
   "metadata": {},
   "outputs": [],
   "source": [
    "from sklearn.preprocessing import LabelEncoder\n",
    "label_x = LabelEncoder()\n",
    "x[:,0]= label_x.fit_transform(x[:,0])\n",
    "print (x)"
   ]
  },
  {
   "cell_type": "code",
   "execution_count": null,
   "id": "83515a53",
   "metadata": {},
   "outputs": [],
   "source": [
    "from sklearn.compose import ColumnTransformer\n",
    "from sklearn.preprocessing import OneHotEncoder\n",
    "ct = ColumnTransformer(transformers=[('encoder', OneHotEncoder(), [0])], remainder='passthrough')\n",
    "x = np.array(ct.fit_transform(x))\n",
    "print (x)"
   ]
  },
  {
   "cell_type": "code",
   "execution_count": null,
   "id": "2335c368",
   "metadata": {},
   "outputs": [],
   "source": [
    "label_y = LabelEncoder()\n",
    "y = label_y.fit_transform(y)\n",
    "print (y)"
   ]
  },
  {
   "cell_type": "code",
   "execution_count": null,
   "id": "cdfd77dc",
   "metadata": {},
   "outputs": [],
   "source": [
    "from sklearn.preprocessing import StandardScaler\n",
    "std_sca= StandardScaler()\n",
    "x_STD = std_sca.fit_transform(x)\n",
    "print (pd.DataFrame(x_STD))"
   ]
  },
  {
   "cell_type": "code",
   "execution_count": null,
   "id": "a830a279",
   "metadata": {},
   "outputs": [],
   "source": [
    "from sklearn.preprocessing import MinMaxScaler\n",
    "Nm_x= MinMaxScaler()\n",
    "x_NOR = Nm_x.fit_transform(x)\n",
    "print (pd.DataFrame(x_NOR))"
   ]
  },
  {
   "cell_type": "code",
   "execution_count": null,
   "id": "1aed2aea",
   "metadata": {},
   "outputs": [],
   "source": [
    "from sklearn.preprocessing import Normalizer\n",
    "Nm_x= Normalizer()\n",
    "x_NOR = Nm_x.fit_transform(x)\n",
    "print (pd.DataFrame(x_NOR))"
   ]
  },
  {
   "cell_type": "code",
   "execution_count": null,
   "id": "7eb13032",
   "metadata": {},
   "outputs": [],
   "source": [
    "from sklearn.model_selection import train_test_split\n",
    "x_train,x_test, y_train,y_test = train_test_split (x_NOR,y,test_size = 0.2)\n",
    "print (pd.DataFrame(x_train), y_train)"
   ]
  }
 ],
 "metadata": {
  "kernelspec": {
   "display_name": "Python 3 (ipykernel)",
   "language": "python",
   "name": "python3"
  },
  "language_info": {
   "codemirror_mode": {
    "name": "ipython",
    "version": 3
   },
   "file_extension": ".py",
   "mimetype": "text/x-python",
   "name": "python",
   "nbconvert_exporter": "python",
   "pygments_lexer": "ipython3",
   "version": "3.11.5"
  }
 },
 "nbformat": 4,
 "nbformat_minor": 5
}
