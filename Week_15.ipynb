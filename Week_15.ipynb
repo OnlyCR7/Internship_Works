{
 "cells": [
  {
   "cell_type": "code",
   "execution_count": null,
   "id": "1bd2dcd2",
   "metadata": {},
   "outputs": [],
   "source": [
    "from scipy.cluster.hierarchy import dendrogram, linkage\n",
    "import numpy as np\n",
    "import pandas as pd\n",
    "import seaborn as sns\n",
    "from matplotlib import pyplot as plt\n",
    "import os\n",
    "plt.rcParams['figure.figsize'] = (20,10)"
   ]
  },
  {
   "cell_type": "code",
   "execution_count": null,
   "id": "6099c4be",
   "metadata": {},
   "outputs": [],
   "source": [
    "os.chdir('')\n",
    "data = pd.read_csv('movie_metadata.csv')\n",
    "display (data)"
   ]
  },
  {
   "cell_type": "code",
   "execution_count": null,
   "id": "67944129",
   "metadata": {},
   "outputs": [],
   "source": [
    "x= data[['budget','gross']].values\n",
    "display (x.shape)\n",
    "display (pd.DataFrame (x))"
   ]
  },
  {
   "cell_type": "code",
   "execution_count": null,
   "id": "0dfb2080",
   "metadata": {},
   "outputs": [],
   "source": [
    "x = x[0:100]\n",
    "display (x.shape)\n",
    "display (x) "
   ]
  },
  {
   "cell_type": "code",
   "execution_count": null,
   "id": "9e1db731",
   "metadata": {},
   "outputs": [],
   "source": [
    "import scipy.cluster.hierarchy as sch\n",
    "dendrogram= sch.dendrogram(sch.linkage(x, method='ward'))"
   ]
  },
  {
   "cell_type": "code",
   "execution_count": null,
   "id": "832e2151",
   "metadata": {},
   "outputs": [],
   "source": [
    "from sklearn.cluster import AgglomerativeClustering\n",
    "hc = AgglomerativeClustering(n_clusters=2, affinity='euclidean', linkage='ward')\n",
    "y_hc = hc.fit_predict(x)\n",
    "print (pd.DataFrame(y_hc).value_counts())\n",
    "display (y_hc)"
   ]
  },
  {
   "cell_type": "code",
   "execution_count": null,
   "id": "de440404",
   "metadata": {},
   "outputs": [],
   "source": [
    "from sklearn.cluster import AgglomerativeClustering\n",
    "hc = AgglomerativeClustering(n_clusters=3, affinity='euclidean', linkage='ward')\n",
    "y_hc = hc.fit_predict(x)\n",
    "print (pd.DataFrame(y_hc).value_counts())\n",
    "display (y_hc)"
   ]
  },
  {
   "cell_type": "code",
   "execution_count": null,
   "id": "c034f712",
   "metadata": {},
   "outputs": [],
   "source": [
    "from sklearn.cluster import AgglomerativeClustering\n",
    "hc = AgglomerativeClustering(n_clusters=4, affinity='euclidean', linkage='ward')\n",
    "y_hc = hc.fit_predict(x)\n",
    "print (pd.DataFrame(y_hc).value_counts())\n",
    "display (y_hc)"
   ]
  },
  {
   "cell_type": "code",
   "execution_count": null,
   "id": "bf93fc13",
   "metadata": {},
   "outputs": [],
   "source": [
    "import scipy.cluster.hierarchy as sch\n",
    "dendrogram= sch.dendrogram(sch.linkage(x, method='single'))"
   ]
  },
  {
   "cell_type": "code",
   "execution_count": null,
   "id": "d675d8ea",
   "metadata": {},
   "outputs": [],
   "source": [
    "from sklearn.cluster import AgglomerativeClustering\n",
    "hc = AgglomerativeClustering(n_clusters=2, affinity='euclidean', linkage='single')\n",
    "y_hc = hc.fit_predict(x)\n",
    "print (pd.DataFrame(y_hc).value_counts())\n",
    "display (y_hc)"
   ]
  },
  {
   "cell_type": "code",
   "execution_count": null,
   "id": "1ee7526a",
   "metadata": {},
   "outputs": [],
   "source": [
    "from sklearn.cluster import AgglomerativeClustering\n",
    "hc = AgglomerativeClustering(n_clusters=3, affinity='euclidean', linkage='single')\n",
    "y_hc = hc.fit_predict(x)\n",
    "print (pd.DataFrame(y_hc).value_counts())\n",
    "display (y_hc)"
   ]
  },
  {
   "cell_type": "code",
   "execution_count": null,
   "id": "c403a7e5",
   "metadata": {},
   "outputs": [],
   "source": [
    "from sklearn.cluster import AgglomerativeClustering\n",
    "hc = AgglomerativeClustering(n_clusters=4, affinity='euclidean', linkage='single')\n",
    "y_hc = hc.fit_predict(x)\n",
    "print (pd.DataFrame(y_hc).value_counts())\n",
    "display (y_hc)"
   ]
  },
  {
   "cell_type": "code",
   "execution_count": null,
   "id": "7f28940a",
   "metadata": {},
   "outputs": [],
   "source": [
    "import scipy.cluster.hierarchy as sch\n",
    "dendrogram= sch.dendrogram(sch.linkage(x, method='complete'))"
   ]
  },
  {
   "cell_type": "code",
   "execution_count": null,
   "id": "2756abe8",
   "metadata": {},
   "outputs": [],
   "source": [
    "from sklearn.cluster import AgglomerativeClustering\n",
    "hc = AgglomerativeClustering(n_clusters=2, affinity='euclidean', linkage='complete')\n",
    "y_hc = hc.fit_predict(x)\n",
    "print (pd.DataFrame(y_hc).value_counts())\n",
    "display (y_hc)"
   ]
  },
  {
   "cell_type": "code",
   "execution_count": null,
   "id": "eb1548e1",
   "metadata": {},
   "outputs": [],
   "source": [
    "from sklearn.cluster import AgglomerativeClustering\n",
    "hc = AgglomerativeClustering(n_clusters=3, affinity='euclidean', linkage='complete')\n",
    "y_hc = hc.fit_predict(x)\n",
    "print (pd.DataFrame(y_hc).value_counts())\n",
    "display (y_hc)"
   ]
  },
  {
   "cell_type": "code",
   "execution_count": null,
   "id": "b76fa279",
   "metadata": {},
   "outputs": [],
   "source": [
    "from sklearn.cluster import AgglomerativeClustering\n",
    "hc = AgglomerativeClustering(n_clusters=4, affinity='euclidean', linkage='complete')\n",
    "y_hc = hc.fit_predict(x)\n",
    "print (pd.DataFrame(y_hc).value_counts())\n",
    "display (y_hc)"
   ]
  },
  {
   "cell_type": "code",
   "execution_count": null,
   "id": "73dca47b",
   "metadata": {},
   "outputs": [],
   "source": [
    "import scipy.cluster.hierarchy as sch\n",
    "dendrogram= sch.dendrogram(sch.linkage(x, method='average'))"
   ]
  },
  {
   "cell_type": "code",
   "execution_count": null,
   "id": "35b08c28",
   "metadata": {},
   "outputs": [],
   "source": [
    "from sklearn.cluster import AgglomerativeClustering\n",
    "hc = AgglomerativeClustering(n_clusters=2, affinity='euclidean', linkage='average')\n",
    "y_hc = hc.fit_predict(x)\n",
    "print (pd.DataFrame(y_hc).value_counts())\n",
    "display (y_hc)"
   ]
  },
  {
   "cell_type": "code",
   "execution_count": null,
   "id": "2994448f",
   "metadata": {},
   "outputs": [],
   "source": [
    "from sklearn.cluster import AgglomerativeClustering\n",
    "hc = AgglomerativeClustering(n_clusters=3, affinity='euclidean', linkage='average')\n",
    "y_hc = hc.fit_predict(x)\n",
    "print (pd.DataFrame(y_hc).value_counts())\n",
    "display (y_hc)"
   ]
  },
  {
   "cell_type": "code",
   "execution_count": null,
   "id": "9755875c",
   "metadata": {},
   "outputs": [],
   "source": [
    "from sklearn.cluster import AgglomerativeClustering\n",
    "hc = AgglomerativeClustering(n_clusters=4, affinity='euclidean', linkage='average')\n",
    "y_hc = hc.fit_predict(x)\n",
    "print (pd.DataFrame(y_hc).value_counts())\n",
    "display (y_hc)"
   ]
  }
 ],
 "metadata": {
  "kernelspec": {
   "display_name": "Python 3 (ipykernel)",
   "language": "python",
   "name": "python3"
  },
  "language_info": {
   "codemirror_mode": {
    "name": "ipython",
    "version": 3
   },
   "file_extension": ".py",
   "mimetype": "text/x-python",
   "name": "python",
   "nbconvert_exporter": "python",
   "pygments_lexer": "ipython3",
   "version": "3.11.5"
  }
 },
 "nbformat": 4,
 "nbformat_minor": 5
}
