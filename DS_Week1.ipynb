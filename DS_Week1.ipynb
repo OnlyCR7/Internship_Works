{
 "cells": [
  {
   "cell_type": "code",
   "execution_count": 1,
   "id": "2fb6abf4",
   "metadata": {},
   "outputs": [],
   "source": [
    "#1. Write a Python program to get the Python version you are using.  \n",
    "\n",
    "import sys\n",
    "print(sys.version)"
   ]
  },
  {
   "cell_type": "code",
   "execution_count": 2,
   "id": "4cc38eee",
   "metadata": {},
   "outputs": [],
   "source": [
    "#2. Write a Python program to display the current date and time.\n",
    "\n",
    "import datetime\n",
    "current_dt = datetime.datetime.now()\n",
    "formated_df = current_dt.strftime('%Y-%m-%d %H:%M:%S')\n",
    "print(formated_df)"
   ]
  },
  {
   "cell_type": "code",
   "execution_count": 3,
   "id": "75446b26",
   "metadata": {},
   "outputs": [],
   "source": [
    "#3. Write a Python program which accepts the radius of a circle from the user and compute the area. \n",
    "\n",
    "import math\n",
    "r = int(input(\"Enter radius :\"))\n",
    "value = math.pi * r ** 2\n",
    "print(\"Area of square is :\" , value)"
   ]
  },
  {
   "cell_type": "code",
   "execution_count": 4,
   "id": "e1483cc2",
   "metadata": {},
   "outputs": [],
   "source": [
    "#4.Write a Python program which accepts the user's first and last name and print them in reverse order with a space between them \n",
    "\n",
    "fname = input(\"Enter your first name :\")\n",
    "lname = input(\"Enter your last name :\")\n",
    "print(lname , \" \" , fname)"
   ]
  },
  {
   "cell_type": "code",
   "execution_count": 5,
   "id": "67378bbc",
   "metadata": {},
   "outputs": [],
   "source": [
    "#5.Write a Python program which accepts a sequence of comma-separated numbers from user and generate a list and a tuple with those numbers\n",
    "\n",
    "comma_nums = input(\"Enter comma separated numbers :\")\n",
    "valus = comma_nums.split(',')\n",
    "list_vals = list(map(int , comma_nums.split(',')))\n",
    "tuple_vals = tuple(map(int , comma_nums.split(',')))\n",
    "print(\"List of numbers :\" , list_vals)\n",
    "print(\"Tuple of numbers :\" , tuple_vals)"
   ]
  },
  {
   "cell_type": "code",
   "execution_count": 6,
   "id": "93118726",
   "metadata": {},
   "outputs": [],
   "source": [
    "#6.Write a Python program to accept a filename from the user and print the extension of that. \n",
    "\n",
    "import os\n",
    "filename = input(\"Enter full file name :\")\n",
    "file_name , file_extn = os.path.splitext(filename)\n",
    "print(\"File extention is :\" , file_extn)"
   ]
  },
  {
   "cell_type": "code",
   "execution_count": 7,
   "id": "bb1ef183",
   "metadata": {},
   "outputs": [],
   "source": [
    "#7.Write a Python program to display the first and last colors from the following list.  \n",
    "\n",
    "color_list = [\"Red\",\"Green\",\"White\" ,\"Black\"]\n",
    "print(\"First color is :\" , color_list[0])\n",
    "print(\"Last color is :\" , color_list[-1])"
   ]
  },
  {
   "cell_type": "code",
   "execution_count": 8,
   "id": "2968ce67",
   "metadata": {},
   "outputs": [],
   "source": [
    "#8.Write a Python program that accepts an integer (n) and computes the value of n+nn+nnn. \n",
    "\n",
    "n = int(input(\"Enter number :\"))\n",
    "value = n + int(str(n) * 2) + int(str(n) * 3)\n",
    "print(\"Result is :\" , value)"
   ]
  },
  {
   "cell_type": "code",
   "execution_count": 9,
   "id": "3111805c",
   "metadata": {},
   "outputs": [],
   "source": [
    "#9.Write a Python program to get the volume of a sphere with radius 6.\n",
    "\n",
    "import math\n",
    "r = 6\n",
    "volume = 4/3 * math.pi * r ** 3\n",
    "print(\"Volume of sphere is :\" , volume)"
   ]
  },
  {
   "cell_type": "code",
   "execution_count": 10,
   "id": "1794c050",
   "metadata": {},
   "outputs": [],
   "source": [
    "#10. Write a Python program to convert seconds to day, hour, minutes and seconds.\n",
    "\n",
    "s = int(input(\"Enter number of seconds :\"))\n",
    "day = s // (24 * 3600)\n",
    "hours = (s % (24 * 3600)) // 3600\n",
    "minutes = (s % 3600) // 60\n",
    "seconds = s % 60\n",
    "print(f\"\"\"\n",
    "       Days : {day} \n",
    "       Hours : {hours}\n",
    "       Minutes : {minutes}\n",
    "       Seconds : {seconds}\n",
    "        \"\"\")"
   ]
  },
  {
   "cell_type": "code",
   "execution_count": null,
   "id": "bdff9ae1",
   "metadata": {},
   "outputs": [],
   "source": []
  }
 ],
 "metadata": {
  "kernelspec": {
   "display_name": "Python 3 (ipykernel)",
   "language": "python",
   "name": "python3"
  },
  "language_info": {
   "codemirror_mode": {
    "name": "ipython",
    "version": 3
   },
   "file_extension": ".py",
   "mimetype": "text/x-python",
   "name": "python",
   "nbconvert_exporter": "python",
   "pygments_lexer": "ipython3",
   "version": "3.11.5"
  }
 },
 "nbformat": 4,
 "nbformat_minor": 5
}
