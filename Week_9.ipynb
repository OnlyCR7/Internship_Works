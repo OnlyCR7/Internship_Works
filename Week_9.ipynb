{
 "cells": [
  {
   "cell_type": "code",
   "execution_count": null,
   "id": "60911379",
   "metadata": {},
   "outputs": [],
   "source": [
    "import matplotlib.pyplot as plt\n",
    "plt.plot([2,4,6,8,10],[1,2,1.5,5,3])\n",
    "plt.show()"
   ]
  },
  {
   "cell_type": "code",
   "execution_count": null,
   "id": "64f638a5",
   "metadata": {},
   "outputs": [],
   "source": [
    "x  = [1,2,1.5,5,3]\n",
    "y = [2,4,6,8,10]\n",
    "plt.plot (x,y)\n",
    "plt.title ('Graph')\n",
    "plt.xlabel ('Month ')\n",
    "plt.ylabel ('Sales')\n",
    "plt.show()"
   ]
  },
  {
   "cell_type": "code",
   "execution_count": null,
   "id": "326cf778",
   "metadata": {},
   "outputs": [],
   "source": [
    "import numpy as np\n",
    "x= np.arange (0,16,2)\n",
    "plt.plot(x, [x1 for x1 in x])\n",
    "plt.plot(x, [x1**2 for x1 in x])\n",
    "plt.plot(x, [x1**3 for x1 in x])\n",
    "plt.show()"
   ]
  },
  {
   "cell_type": "code",
   "execution_count": null,
   "id": "ffcc8a6d",
   "metadata": {},
   "outputs": [],
   "source": [
    "x= np.arange (0,100,2)\n",
    "plt.plot(x, [x1 for x1 in x])\n",
    "plt.plot(x, [x1**2 for x1 in x])\n",
    "plt.plot(x, [x1**3 for x1 in x])\n",
    "plt.xlim ([0,20])\n",
    "plt.ylim ([0,80])\n",
    "plt.show()"
   ]
  },
  {
   "cell_type": "code",
   "execution_count": null,
   "id": "14facdf3",
   "metadata": {},
   "outputs": [],
   "source": [
    "from matplotlib import style\n",
    "import  matplotlib.style\n",
    "style.use ('ggplot')\n",
    "x =[20,30,15,25]\n",
    "y= [10,12,14,16]\n",
    "x1= [32,28,34,24]\n",
    "y1= [11,13,15,17]\n",
    "plt.plot (x,y,'r',label = 'Sales',linewidth = 10)\n",
    "plt.plot (x1,y1,'g',label = 'Profit',linewidth = 3)\n",
    "plt.title ('Graph')\n",
    "plt.xlabel ('X-Axis')\n",
    "plt.ylabel ('Y-Axis')\n",
    "plt.legend()\n",
    "plt.grid(True, color = 'k')\t"
   ]
  },
  {
   "cell_type": "code",
   "execution_count": null,
   "id": "35c290d5",
   "metadata": {},
   "outputs": [],
   "source": [
    "plt.bar ([10,12,14,16,18],[15,10,12,18,20],label = 'A',color = 'y')\n",
    "plt.bar ([11,13,15,17,19],[20,17,25,12,28], label = 'B',color = 'g')\n",
    "plt.title ('Graph')\n",
    "plt.xlabel ('X-Axis')\n",
    "plt.ylabel ('Y-Axis')\n",
    "plt.legend()\n",
    "plt.show()"
   ]
  },
  {
   "cell_type": "code",
   "execution_count": null,
   "id": "26b3cc29",
   "metadata": {},
   "outputs": [],
   "source": [
    "plt.bar ([10,12,14,16,18],[15,10,12,18,20],label = 'X',color = 'r')\n",
    "plt.bar ([11,13,15,17,19],[20,17,25,12,28], label = 'Y',color = 'g')\n",
    "plt.bar ([11,13,15,17,19],[12,20,20,22,28], label = 'Z',color = 'b')\n",
    "plt.title ('Graph')\n",
    "plt.xlabel ('X-Axis')\n",
    "plt.ylabel ('Y-Axis')\n",
    "plt.legend()\n",
    "plt.show()"
   ]
  },
  {
   "cell_type": "code",
   "execution_count": null,
   "id": "1802169f",
   "metadata": {},
   "outputs": [],
   "source": [
    "age = [10,12,45,32,42,22,21,28,35,14,16,20,33,33,35,38,32,42,45,48,18,19,26]\n",
    "age_group= [0,10,20,30,40,50]\n",
    "plt.hist (age,age_group)\n",
    "plt.title ('Graph')\n",
    "plt.xlabel ('X-Axis')\n",
    "plt.ylabel ('Y-Axis')\n",
    "plt.show()"
   ]
  },
  {
   "cell_type": "code",
   "execution_count": null,
   "id": "5862e4f4",
   "metadata": {},
   "outputs": [],
   "source": [
    "age = [10,12,45,32,42,22,21,28,35,14,16,20,33,33,35,38,32,42,45,48,18,19,26]\n",
    "age_group= [0,10,20,30,40,50]\n",
    "plt.hist (age,age_group,histtype = 'bar',rwidth =0.5,color = 'black',label ='Age Group')\n",
    "plt.title ('Graph')\n",
    "plt.xlabel ('X-Axis')\n",
    "plt.ylabel ('Y-Axis')\n",
    "plt.legend()\n",
    "plt.show()"
   ]
  },
  {
   "cell_type": "code",
   "execution_count": null,
   "id": "19a6c3b6",
   "metadata": {},
   "outputs": [],
   "source": [
    "age = [10,12,45,32,42,22,21,28,35,14,16,20,33,33,35,38,32,42,45,48,18,19,26]\n",
    "age_group= [10,20,30,40,50]\n",
    "plt.hist (age,age_group,histtype = 'step',color = 'gray',label ='Age Group')\n",
    "plt.title ('Graph')\n",
    "plt.xlabel ('X-Axis')\n",
    "plt.ylabel ('Y-Axis')\n",
    "plt.legend()\n",
    "plt.show()"
   ]
  },
  {
   "cell_type": "code",
   "execution_count": null,
   "id": "2f4930db",
   "metadata": {},
   "outputs": [],
   "source": [
    "x = [1,2,3,4,5,6,7,8,9,10]\n",
    "y = [18,16,11,15,13,18,13,16,14,18]\n",
    "plt.scatter (x,y,label = 'Sales',color ='k')\n",
    "plt.title ('Graph')\n",
    "plt.xlabel ('X-Axis')\n",
    "plt.ylabel ('Y-Axis')\n",
    "plt.legend(loc= 'upper right')\n",
    "plt.show()"
   ]
  },
  {
   "cell_type": "code",
   "execution_count": null,
   "id": "8ca7c057",
   "metadata": {},
   "outputs": [],
   "source": [
    "days = [1,2,3,4,5]\n",
    "sleep = [7,6,4,5,8]\n",
    "eat = [2,3,4,2,1]\n",
    "work =[8,9,10,8,9]\n",
    "play=[4,5,3,3,2]\n",
    "plt.stackplot (days,sleep,eat,work,play)               \n",
    "plt.title ('Graph')\n",
    "plt.xlabel ('X-Axis')\n",
    "plt.ylabel ('Y-Axis')\n",
    "plt.show()"
   ]
  },
  {
   "cell_type": "code",
   "execution_count": null,
   "id": "44860503",
   "metadata": {},
   "outputs": [],
   "source": [
    "hours = [5,8,3,4]\n",
    "plt.pie (hours)\n",
    "plt.show()"
   ]
  },
  {
   "cell_type": "code",
   "execution_count": null,
   "id": "397a941e",
   "metadata": {},
   "outputs": [],
   "source": [
    "def f(t):\n",
    "    return (np.exp(-t)*np.cos(2*np.pi*t))\n",
    "\n",
    "t1=np.arange(10,20,2)\n",
    "t2= np.arange (11,21,2)\n",
    "plt.subplot (211)\n",
    "plt.plot(t1,f(t1),'bo',t2,f(t2))\n",
    "plt.title ('Graph 1')\n",
    "plt.xlabel ('X-Axis')\n",
    "plt.ylabel ('Y-Axis')\n",
    "\n",
    "plt.subplot(212)\n",
    "plt.plot(t2,np.cos(2*np.pi*t2))\n",
    "plt.title ('Graph 2')\n",
    "plt.xlabel ('X-Axis')\n",
    "plt.ylabel ('Y-Axis')\n",
    "plt.show()"
   ]
  },
  {
   "cell_type": "code",
   "execution_count": null,
   "id": "07fea911",
   "metadata": {},
   "outputs": [],
   "source": [
    "x1=np.arange(10,30,2)\n",
    "y1 = [1,5,6,7,8,3,4,6,5,4]\n",
    "\n",
    "x2= np.arange (10,30,2)\n",
    "y2 = [5,4,2,8,4,6,3,4,5,4]\n",
    "\n",
    "plt.subplot (211)\n",
    "plt.plot(x1,y1)\n",
    "plt.title ('Graph 1')\n",
    "plt.xlabel ('X-Axis')\n",
    "plt.ylabel ('Y-Axis')\n",
    "\n",
    "plt.subplot(212)\n",
    "plt.plot(x2,y2)\n",
    "plt.title ('Graph 2')\n",
    "plt.xlabel ('X-Axis')\n",
    "plt.ylabel ('Y-Axis')\n",
    "plt.tight_layout(pad=1, h_pad=1, w_pad=1) # The labels  are not overlapping \n",
    "plt.show()"
   ]
  }
 ],
 "metadata": {
  "kernelspec": {
   "display_name": "Python 3 (ipykernel)",
   "language": "python",
   "name": "python3"
  },
  "language_info": {
   "codemirror_mode": {
    "name": "ipython",
    "version": 3
   },
   "file_extension": ".py",
   "mimetype": "text/x-python",
   "name": "python",
   "nbconvert_exporter": "python",
   "pygments_lexer": "ipython3",
   "version": "3.11.5"
  }
 },
 "nbformat": 4,
 "nbformat_minor": 5
}
