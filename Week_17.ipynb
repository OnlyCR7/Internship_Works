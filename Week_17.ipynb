{
 "cells": [
  {
   "cell_type": "code",
   "execution_count": null,
   "id": "3a3c6d89",
   "metadata": {},
   "outputs": [],
   "source": [
    "from sklearn.ensemble import AdaBoostClassifier\n",
    "from sklearn.preprocessing import LabelEncoder\n",
    "from sklearn.tree import DecisionTreeClassifier\n",
    "import pandas as pd\n",
    "import numpy as np\n",
    "from sklearn.model_selection import train_test_split\n",
    "from sklearn import metrics\n",
    "import os\n",
    "from sklearn.metrics import accuracy_score\n",
    "from sklearn.metrics import confusion_matrix"
   ]
  },
  {
   "cell_type": "code",
   "execution_count": null,
   "id": "21da4e4a",
   "metadata": {},
   "outputs": [],
   "source": [
    "os.chdir('')\n",
    "dataset = pd.read_csv('Boost_mushrooms.csv')\n",
    "display (dataset)"
   ]
  },
  {
   "cell_type": "code",
   "execution_count": null,
   "id": "0f09df3e",
   "metadata": {},
   "outputs": [],
   "source": [
    "print (dataset.shape)"
   ]
  },
  {
   "cell_type": "code",
   "execution_count": null,
   "id": "fa20a70b",
   "metadata": {},
   "outputs": [],
   "source": [
    "print (dataset.isna().sum())"
   ]
  },
  {
   "cell_type": "code",
   "execution_count": null,
   "id": "0f4851b7",
   "metadata": {},
   "outputs": [],
   "source": [
    "print (dataset.info())"
   ]
  },
  {
   "cell_type": "code",
   "execution_count": null,
   "id": "c48804a6",
   "metadata": {},
   "outputs": [],
   "source": [
    "for label in dataset.columns:\n",
    "    dataset[label] = LabelEncoder().fit(dataset[label]).transform(dataset[label] )\n",
    "    \n",
    "display (dataset)"
   ]
  },
  {
   "cell_type": "code",
   "execution_count": null,
   "id": "ca4edb21",
   "metadata": {},
   "outputs": [],
   "source": [
    "x = dataset.drop(['class'],axis =1)\n",
    "display (x)"
   ]
  },
  {
   "cell_type": "code",
   "execution_count": null,
   "id": "405a7f01",
   "metadata": {},
   "outputs": [],
   "source": [
    "y = dataset['class']\n",
    "display (y)"
   ]
  },
  {
   "cell_type": "code",
   "execution_count": null,
   "id": "fc73bfaf",
   "metadata": {},
   "outputs": [],
   "source": [
    "x_train , x_test,y_train,y_test = train_test_split (x,y,test_size = 0.3)\n",
    "print (x.shape)\n",
    "print (x_train.shape)\n",
    "print (x_test.shape)\n",
    "print (y_train.shape)\n",
    "print (y_test.shape)"
   ]
  },
  {
   "cell_type": "code",
   "execution_count": null,
   "id": "d1a199eb",
   "metadata": {},
   "outputs": [],
   "source": [
    "from sklearn.linear_model import LogisticRegression\n",
    "lr = LogisticRegression()\n",
    "print (lr)"
   ]
  },
  {
   "cell_type": "code",
   "execution_count": null,
   "id": "e5bef1f3",
   "metadata": {},
   "outputs": [],
   "source": [
    "AdaBoost= AdaBoostClassifier(base_estimator = lr , n_estimators = 400, learning_rate =1)\n",
    "lrboostmodel= AdaBoost.fit(x_train,y_train)\n",
    "print (lrboostmodel)"
   ]
  },
  {
   "cell_type": "code",
   "execution_count": null,
   "id": "73a22b7b",
   "metadata": {},
   "outputs": [],
   "source": [
    "lr_pred = lrboostmodel.predict(x_test)\n",
    "display (lr_pred)"
   ]
  },
  {
   "cell_type": "code",
   "execution_count": null,
   "id": "881f29db",
   "metadata": {},
   "outputs": [],
   "source": [
    "print (accuracy_score(y_test,lr_pred))"
   ]
  },
  {
   "cell_type": "code",
   "execution_count": null,
   "id": "720d12e2",
   "metadata": {},
   "outputs": [],
   "source": [
    "cm = confusion_matrix(y_test,lr_pred)\n",
    "print (cm)"
   ]
  },
  {
   "cell_type": "code",
   "execution_count": null,
   "id": "1bb5c96b",
   "metadata": {},
   "outputs": [],
   "source": [
    "lr_pred = lrboostmodel.predict(x)\n",
    "display (lr_pred)"
   ]
  },
  {
   "cell_type": "code",
   "execution_count": null,
   "id": "45163f1d",
   "metadata": {},
   "outputs": [],
   "source": [
    "print (accuracy_score(y,lr_pred))"
   ]
  },
  {
   "cell_type": "code",
   "execution_count": null,
   "id": "9e7197f5",
   "metadata": {},
   "outputs": [],
   "source": [
    "cm = confusion_matrix(y,lr_pred)\n",
    "print (cm)"
   ]
  },
  {
   "cell_type": "code",
   "execution_count": null,
   "id": "6a10de4d",
   "metadata": {},
   "outputs": [],
   "source": [
    "dt_model = DecisionTreeClassifier (criterion = 'entropy', max_depth = 1)\n",
    "print (dt_model)"
   ]
  },
  {
   "cell_type": "code",
   "execution_count": null,
   "id": "99dc6809",
   "metadata": {},
   "outputs": [],
   "source": [
    "AdaBoost= AdaBoostClassifier(base_estimator = dt_model, n_estimators = 400, learning_rate =1)\n",
    "boostmodel= AdaBoost.fit(x_train,y_train)\n",
    "print (boostmodel)"
   ]
  },
  {
   "cell_type": "code",
   "execution_count": null,
   "id": "bd242926",
   "metadata": {},
   "outputs": [],
   "source": [
    "dt_pred = boostmodel.predict(x_test)\n",
    "print (dt_pred)"
   ]
  },
  {
   "cell_type": "code",
   "execution_count": null,
   "id": "ba9c4539",
   "metadata": {},
   "outputs": [],
   "source": [
    "print (accuracy_score(y_test,dt_pred))"
   ]
  },
  {
   "cell_type": "code",
   "execution_count": null,
   "id": "d5388d25",
   "metadata": {},
   "outputs": [],
   "source": [
    "cm = confusion_matrix(y_test,dt_pred)\n",
    "print (cm)"
   ]
  },
  {
   "cell_type": "code",
   "execution_count": null,
   "id": "ecbf7454",
   "metadata": {},
   "outputs": [],
   "source": [
    "dt_pred = boostmodel.predict(x)\n",
    "print (dt_pred)"
   ]
  },
  {
   "cell_type": "code",
   "execution_count": null,
   "id": "468e47a4",
   "metadata": {},
   "outputs": [],
   "source": [
    "print (accuracy_score(y,dt_pred))"
   ]
  },
  {
   "cell_type": "code",
   "execution_count": null,
   "id": "d450c580",
   "metadata": {},
   "outputs": [],
   "source": [
    "cm = confusion_matrix(y,dt_pred)\n",
    "print (cm)"
   ]
  },
  {
   "cell_type": "code",
   "execution_count": null,
   "id": "7e66d058",
   "metadata": {},
   "outputs": [],
   "source": [
    "from sklearn.tree import DecisionTreeClassifier\n",
    "dt = DecisionTreeClassifier (criterion = 'entropy')\n",
    "dt.fit (x_train,y_train)\n",
    "print (dt)"
   ]
  },
  {
   "cell_type": "code",
   "execution_count": null,
   "id": "7fece9e6",
   "metadata": {},
   "outputs": [],
   "source": [
    "dt_pred = dt.predict (x_test)\n",
    "print (dt_pred)"
   ]
  },
  {
   "cell_type": "code",
   "execution_count": null,
   "id": "659d2b91",
   "metadata": {},
   "outputs": [],
   "source": [
    "print (accuracy_score(y_test,dt_pred))"
   ]
  },
  {
   "cell_type": "code",
   "execution_count": null,
   "id": "95d761a1",
   "metadata": {},
   "outputs": [],
   "source": [
    "cm = confusion_matrix(y_test,dt_pred)\n",
    "print (cm)"
   ]
  }
 ],
 "metadata": {
  "kernelspec": {
   "display_name": "Python 3 (ipykernel)",
   "language": "python",
   "name": "python3"
  },
  "language_info": {
   "codemirror_mode": {
    "name": "ipython",
    "version": 3
   },
   "file_extension": ".py",
   "mimetype": "text/x-python",
   "name": "python",
   "nbconvert_exporter": "python",
   "pygments_lexer": "ipython3",
   "version": "3.11.5"
  }
 },
 "nbformat": 4,
 "nbformat_minor": 5
}
