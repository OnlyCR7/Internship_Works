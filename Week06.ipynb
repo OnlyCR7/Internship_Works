{
 "cells": [
  {
   "cell_type": "code",
   "execution_count": null,
   "id": "3c524b8f",
   "metadata": {},
   "outputs": [],
   "source": [
    "#1.Write a NumPy program to get the numpy version and show numpy build configuration.  \n",
    "\n",
    "import numpy as np\n",
    "print(np.__version__)\n",
    "print(np.show_config())"
   ]
  },
  {
   "cell_type": "code",
   "execution_count": null,
   "id": "5e4683e6",
   "metadata": {},
   "outputs": [],
   "source": [
    "#2. Write a NumPy program to  get help on the add function.  \n",
    "\n",
    "import numpy as np\n",
    "print(np.info(np.add))"
   ]
  },
  {
   "cell_type": "code",
   "execution_count": null,
   "id": "f5e42ae7",
   "metadata": {},
   "outputs": [],
   "source": [
    "#3. Write a NumPy program to test whether none of the elements of a given array is zero.  \n",
    "\n",
    "import numpy as np\n",
    "arr = np.array([1, 2, 3, 4, 5])\n",
    "result = np.all(arr != 0)\n",
    "if result:\n",
    "    print(\"None of the elements in the array is zero.\")\n",
    "else:\n",
    "    print(\"There is at least one element in the array that is zero.\")"
   ]
  },
  {
   "cell_type": "code",
   "execution_count": null,
   "id": "964ade3a",
   "metadata": {},
   "outputs": [],
   "source": [
    "#4. Write a NumPy program to test whether any of the elements of a given array is non-zero.  \n",
    "\n",
    "import numpy as np\n",
    "arr = np.array([0, 0, 0, 0, 5])\n",
    "result = np.any(arr != 0)\n",
    "if result:\n",
    "    print(\"At least one element in the array is non-zero.\")\n",
    "else:\n",
    "    print(\"All elements in the array are zero.\")"
   ]
  },
  {
   "cell_type": "code",
   "execution_count": null,
   "id": "c0854ec1",
   "metadata": {},
   "outputs": [],
   "source": [
    "#5. Write a NumPy program to test a given array element-wise for finiteness (not infinity or not a Number). \n",
    "\n",
    "import numpy as np\n",
    "a = np.array([1, 0, np.nan, np.inf])\n",
    "print(\"Original array\")\n",
    "print(a)\n",
    "print(\"Test a given array element-wise for finiteness :\")\n",
    "print(np.isfinite(a))"
   ]
  },
  {
   "cell_type": "code",
   "execution_count": null,
   "id": "d9235900",
   "metadata": {},
   "outputs": [],
   "source": [
    "#6. Write a NumPy program to test element-wise for positive or negative infinity.  \n",
    "\n",
    "import numpy as np\n",
    "a = np.array([1, 0, np.nan, np.inf])\n",
    "print(\"Original array\")\n",
    "print(a)\n",
    "print(\"Test element-wise for positive or negative infinity:\")\n",
    "print(np.isinf(a))\n"
   ]
  },
  {
   "cell_type": "code",
   "execution_count": null,
   "id": "fd6c7c33",
   "metadata": {},
   "outputs": [],
   "source": [
    "#7. Write a NumPy program to test element-wise for NaN of a given array.  \n",
    "\n",
    "import numpy as np\n",
    "a = np.array([1, 0, np.nan, np.inf])\n",
    "print(\"Original array\")\n",
    "print(a)\n",
    "print(\"Test element-wise for NaN:\")\n",
    "print(np.isnan(a))"
   ]
  },
  {
   "cell_type": "code",
   "execution_count": null,
   "id": "956a0f25",
   "metadata": {},
   "outputs": [],
   "source": [
    "#8. Write a NumPy program to test element-wise for complex number, real number of a given array. Also test whether a given number is a scalar type or not.  \n",
    "\n",
    "import numpy as np\n",
    "a = np.array([1+1j, 1+0j, 4.5, 3, 2, 2j])\n",
    "print(\"Original array\")\n",
    "print(a)\n",
    "print(\"Checking for complex number:\")\n",
    "print(np.iscomplex(a))\n",
    "print(\"Checking for real number:\")\n",
    "print(np.isreal(a))\n",
    "print(\"Checking for scalar type:\")\n",
    "print(np.isscalar(3.1))\n",
    "print(np.isscalar([3.1]))"
   ]
  },
  {
   "cell_type": "code",
   "execution_count": null,
   "id": "a9a5413a",
   "metadata": {},
   "outputs": [],
   "source": [
    "#9. Write a NumPy program to create an element-wise comparison (greater, greater_equal, less and less_equal) of two given arrays.  \n",
    "\n",
    "import numpy as np\n",
    "x = np.array([3, 5])\n",
    "y = np.array([2, 5])\n",
    "print(\"Original numbers:\")\n",
    "print(x)\n",
    "print(y)\n",
    "print(\"Comparison - greater\")\n",
    "print(np.greater(x, y))\n",
    "print(\"Comparison - greater_equal\")\n",
    "print(np.greater_equal(x, y))\n",
    "print(\"Comparison - less\")\n",
    "print(np.less(x, y))\n",
    "print(\"Comparison - less_equal\")\n",
    "print(np.less_equal(x, y))"
   ]
  },
  {
   "cell_type": "code",
   "execution_count": null,
   "id": "eaad248d",
   "metadata": {},
   "outputs": [],
   "source": [
    "#10. Write a NumPy program to create an element-wise comparison (equal, equal within a tolerance) of two given arrays.  \n",
    "\n",
    "import numpy as np\n",
    "x = np.array([72, 79, 85, 90, 150, -135, 120, -10, 60, 100])\n",
    "y = np.array([72, 79, 85, 90, 150, -135, 120, -10, 60, 100.000001])\n",
    "print(\"Original numbers:\")\n",
    "print(x)\n",
    "print(y)\n",
    "print(\"Comparison - equal:\")\n",
    "print(np.equal(x, y))\n",
    "print(\"Comparison - equal within a tolerance:\")\n",
    "print(np.allclose(x, y))"
   ]
  },
  {
   "cell_type": "code",
   "execution_count": null,
   "id": "ba6a0d3d",
   "metadata": {},
   "outputs": [],
   "source": [
    "#11. Write a NumPy program to create an array with the values 1, 7, 13, 105 and determine the size of the memory occupied by the array.  \n",
    "\n",
    "import numpy as np\n",
    "X = np.array([1, 7, 13, 105])\n",
    "print(\"Original array:\")\n",
    "print(X)\n",
    "print(\"Size of the memory occupied by the said array:\")\n",
    "print(\"%d bytes\" % (X.size * X.itemsize))"
   ]
  },
  {
   "cell_type": "code",
   "execution_count": null,
   "id": "c3bba0c7",
   "metadata": {},
   "outputs": [],
   "source": [
    "#12. Write a NumPy program to create an array of 10 zeros,10 ones, 10 fives. \n",
    "\n",
    "import numpy as np\n",
    "array=np.zeros(10)\n",
    "print(\"An array of 10 zeros:\")\n",
    "print(array)\n",
    "array=np.ones(10)\n",
    "print(\"An array of 10 ones:\")\n",
    "print(array)\n",
    "array=np.ones(10)*5\n",
    "print(\"An array of 10 fives:\")\n",
    "print(array)"
   ]
  },
  {
   "cell_type": "code",
   "execution_count": null,
   "id": "20dea4e8",
   "metadata": {},
   "outputs": [],
   "source": [
    "#13. Write a NumPy program to create an array of the integers from 30 to70.  \n",
    "\n",
    "import numpy as np\n",
    "array=np.arange(30,71)\n",
    "print(\"Array of the integers from 30 to70\")\n",
    "print(array)"
   ]
  },
  {
   "cell_type": "code",
   "execution_count": null,
   "id": "34df0e81",
   "metadata": {},
   "outputs": [],
   "source": [
    "#14. Write a NumPy program to create an array of all the even integers from 30 to 70. \n",
    "\n",
    "import numpy as np\n",
    "array=np.arange(30,71,2)\n",
    "print(\"Array of all the even integers from 30 to 70\")\n",
    "print(array)"
   ]
  }
 ],
 "metadata": {
  "kernelspec": {
   "display_name": "Python 3 (ipykernel)",
   "language": "python",
   "name": "python3"
  },
  "language_info": {
   "codemirror_mode": {
    "name": "ipython",
    "version": 3
   },
   "file_extension": ".py",
   "mimetype": "text/x-python",
   "name": "python",
   "nbconvert_exporter": "python",
   "pygments_lexer": "ipython3",
   "version": "3.11.5"
  }
 },
 "nbformat": 4,
 "nbformat_minor": 5
}
