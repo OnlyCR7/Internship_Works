{
 "cells": [
  {
   "cell_type": "code",
   "execution_count": 1,
   "id": "ca844747",
   "metadata": {},
   "outputs": [
    {
     "name": "stdout",
     "output_type": "stream",
     "text": [
      "Enter a number: 6\n",
      "1 is odd.\n",
      "2 is even.\n",
      "3 is odd.\n",
      "6 is even.\n"
     ]
    }
   ],
   "source": [
    "# 1. Write a program which will find factors of given number and find whether the factor is even or odd.\n",
    "\n",
    "def myfunc(number):\n",
    "    factors = []\n",
    "    for i in range(1, number + 1):\n",
    "        if number % i == 0:\n",
    "            factors.append(i)\n",
    "    for factor in factors:\n",
    "        if factor % 2 == 0:\n",
    "            print(f\"{factor} is even.\")\n",
    "        else:\n",
    "            print(f\"{factor} is odd.\")\n",
    "if __name__ == \"__main__\":\n",
    "    try:\n",
    "        user_input = int(input(\"Enter a number: \"))\n",
    "        if user_input < 0:\n",
    "            print(\"Enter a positive integer.\")\n",
    "        else:\n",
    "            myfunc(user_input)\n",
    "    except ValueError:\n",
    "        print(\"Invalid input.\")"
   ]
  },
  {
   "cell_type": "code",
   "execution_count": 2,
   "id": "b5421051",
   "metadata": {},
   "outputs": [
    {
     "name": "stdout",
     "output_type": "stream",
     "text": [
      "Enter words : Sagar Sangam\n",
      "Order is : \n",
      "Sagar\n",
      "Sangam\n"
     ]
    }
   ],
   "source": [
    "# 2. Write a code which accepts a sequence of words as input and prints the words in a sequence after sorting them alphabetically.\n",
    "\n",
    "def sorting_func(sentence):\n",
    "    words = sentence.split()\n",
    "    sorted_words = sorted(words)\n",
    "    \n",
    "    print(\"Order is : \")\n",
    "    for word in sorted_words:\n",
    "        print(word)\n",
    "\n",
    "if __name__ == \"__main__\":\n",
    "    user_input = input(\"Enter words : \")\n",
    "    sorting_func(user_input)"
   ]
  },
  {
   "cell_type": "code",
   "execution_count": 3,
   "id": "671b9194",
   "metadata": {},
   "outputs": [
    {
     "name": "stdout",
     "output_type": "stream",
     "text": [
      "Numbers with all even digits between 1000 and 3000:\n",
      "2000,2002,2004,2006,2008,2020,2022,2024,2026,2028,2040,2042,2044,2046,2048,2060,2062,2064,2066,2068,2080,2082,2084,2086,2088,2200,2202,2204,2206,2208,2220,2222,2224,2226,2228,2240,2242,2244,2246,2248,2260,2262,2264,2266,2268,2280,2282,2284,2286,2288,2400,2402,2404,2406,2408,2420,2422,2424,2426,2428,2440,2442,2444,2446,2448,2460,2462,2464,2466,2468,2480,2482,2484,2486,2488,2600,2602,2604,2606,2608,2620,2622,2624,2626,2628,2640,2642,2644,2646,2648,2660,2662,2664,2666,2668,2680,2682,2684,2686,2688,2800,2802,2804,2806,2808,2820,2822,2824,2826,2828,2840,2842,2844,2846,2848,2860,2862,2864,2866,2868,2880,2882,2884,2886,2888\n"
     ]
    }
   ],
   "source": [
    "# 3. Write a program, which will find all the numbers between 1000 and 3000 (both included) such that each digit of a number is an even number. The numbers obtained should be printed in a comma separated sequence on a single line.\n",
    "\n",
    "def all_even_digit(number):\n",
    "    for digit in str(number):\n",
    "        if int(digit) % 2 != 0:\n",
    "            return False\n",
    "    return True\n",
    "def even_digit(start, end):\n",
    "    even_nums = []\n",
    "    for num in range(start, end + 1):\n",
    "        if all_even_digit(num):\n",
    "            even_nums.append(str(num))\n",
    "    return even_nums\n",
    "if __name__ == \"__main__\":\n",
    "    start_range = 1000\n",
    "    end_range = 3000\n",
    "    result = even_digit(start_range, end_range)\n",
    "    print(\"Numbers with all even digits between 1000 and 3000:\")\n",
    "    print(\",\".join(result))"
   ]
  },
  {
   "cell_type": "code",
   "execution_count": 4,
   "id": "1d3c1a64",
   "metadata": {},
   "outputs": [
    {
     "name": "stdout",
     "output_type": "stream",
     "text": [
      "Enter a sentence: World Cup 2023\n",
      "Number of letters: 8\n",
      "Number of digits: 4\n"
     ]
    }
   ],
   "source": [
    "# 4. Write a program that accepts a sentence and calculate the number of letters and digits.\n",
    "\n",
    "def count_func(sentence):\n",
    "    letters_count = 0\n",
    "    digits_count = 0\n",
    "    for char in sentence:\n",
    "        if char.isalpha():\n",
    "            letters_count += 1\n",
    "        elif char.isdigit():\n",
    "            digits_count += 1\n",
    "    return letters_count, digits_count\n",
    "if __name__ == \"__main__\":\n",
    "    user_input = input(\"Enter a sentence: \")\n",
    "    letters, digits = count_func(user_input)\n",
    "    print(f\"Number of letters: {letters}\")\n",
    "    print(f\"Number of digits: {digits}\")"
   ]
  },
  {
   "cell_type": "code",
   "execution_count": 5,
   "id": "6cc601ff",
   "metadata": {},
   "outputs": [
    {
     "name": "stdout",
     "output_type": "stream",
     "text": [
      "Enter a number: 123321\n",
      "123321 is a palindrome number.\n"
     ]
    }
   ],
   "source": [
    "# 5. Design a code which will find the given number is Palindrome number or not.\n",
    "\n",
    "def palindrome(number):\n",
    "    str_number = str(number).lower()\n",
    "    reversed_str = ''.join(reversed(str_number))\n",
    "    return str_number == reversed_str\n",
    "if __name__ == \"__main__\":\n",
    "    user_input = input(\"Enter a number: \")\n",
    "    try:\n",
    "        num = int(user_input)\n",
    "        if palindrome(num):\n",
    "            print(f\"{num} is a palindrome number.\")\n",
    "        else:\n",
    "            print(f\"{num} is not a palindrome number.\")\n",
    "    except ValueError:\n",
    "        print(\"Invalid input.\")"
   ]
  }
 ],
 "metadata": {
  "kernelspec": {
   "display_name": "Python 3 (ipykernel)",
   "language": "python",
   "name": "python3"
  },
  "language_info": {
   "codemirror_mode": {
    "name": "ipython",
    "version": 3
   },
   "file_extension": ".py",
   "mimetype": "text/x-python",
   "name": "python",
   "nbconvert_exporter": "python",
   "pygments_lexer": "ipython3",
   "version": "3.11.5"
  }
 },
 "nbformat": 4,
 "nbformat_minor": 5
}
