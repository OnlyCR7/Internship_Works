{
 "cells": [
  {
   "cell_type": "code",
   "execution_count": null,
   "id": "91cf03b2",
   "metadata": {},
   "outputs": [],
   "source": [
    "import numpy as np\n",
    "import pandas as pd\n",
    "import os\n",
    "from sklearn.metrics import accuracy_score\n",
    "from sklearn.metrics import classification_report\n",
    "from sklearn.metrics import confusion_matrix"
   ]
  },
  {
   "cell_type": "code",
   "execution_count": null,
   "id": "cfbd6bef",
   "metadata": {},
   "outputs": [],
   "source": [
    "os.chdir ('')\n",
    "df = pd.read_excel('Golf_Play_Train.xlsx')\n",
    "print (df)"
   ]
  },
  {
   "cell_type": "code",
   "execution_count": null,
   "id": "a2469ec7",
   "metadata": {},
   "outputs": [],
   "source": [
    "df1= df.copy()\n",
    "df1.drop(['Day'],axis=1,inplace=True)\n",
    "print (df1)"
   ]
  },
  {
   "cell_type": "code",
   "execution_count": null,
   "id": "fabee0bb",
   "metadata": {},
   "outputs": [],
   "source": [
    "print (df1.dtypes)"
   ]
  },
  {
   "cell_type": "code",
   "execution_count": null,
   "id": "3846921d",
   "metadata": {},
   "outputs": [],
   "source": [
    "df1[\"Outlook\"] = df1[\"Outlook\"].astype('category')\n",
    "df1[\"Humidity\"] = df1[\"Humidity\"].astype('category')\n",
    "df1[\"Wind\"] = df1[\"Wind\"].astype('category')\n",
    "df1[\"Play\"] = df1[\"Play\"].astype('category')\n",
    "print (df1.dtypes)"
   ]
  },
  {
   "cell_type": "code",
   "execution_count": null,
   "id": "91e006e7",
   "metadata": {},
   "outputs": [],
   "source": [
    "df1[\"Outlook\"] = df1[\"Outlook\"].cat.codes\n",
    "df1[\"Humidity\"] = df1[\"Humidity\"].cat.codes\n",
    "df1[\"Wind\"] = df1[\"Wind\"].cat.codes\n",
    "df1[\"Play\"] = df1[\"Play\"].cat.codes\n",
    "print (df1)"
   ]
  },
  {
   "cell_type": "code",
   "execution_count": null,
   "id": "68cacb73",
   "metadata": {},
   "outputs": [],
   "source": [
    "df1 = pd.get_dummies(df1, columns=['Outlook'], drop_first=True)\n",
    "print (df1)"
   ]
  },
  {
   "cell_type": "code",
   "execution_count": null,
   "id": "934a24da",
   "metadata": {},
   "outputs": [],
   "source": [
    "play = df1['Play']\n",
    "df1.drop(['Play'],axis=1,inplace=True)\n",
    "print (play)\n",
    "print (df1)"
   ]
  },
  {
   "cell_type": "code",
   "execution_count": null,
   "id": "e37b69f3",
   "metadata": {},
   "outputs": [],
   "source": [
    "df1 = pd.concat([df1,play],axis =1)\n",
    "print (df1)"
   ]
  },
  {
   "cell_type": "code",
   "execution_count": null,
   "id": "3998f2c6",
   "metadata": {},
   "outputs": [],
   "source": [
    "x= df1.iloc[:,:-1].values\n",
    "print (x)"
   ]
  },
  {
   "cell_type": "code",
   "execution_count": null,
   "id": "22030641",
   "metadata": {},
   "outputs": [],
   "source": [
    "y = df1.iloc[:,4].values\n",
    "print (y)"
   ]
  },
  {
   "cell_type": "code",
   "execution_count": null,
   "id": "85d3ddc9",
   "metadata": {},
   "outputs": [],
   "source": [
    "from sklearn.linear_model import LogisticRegression\n",
    "logmodel = LogisticRegression()\n",
    "logmodel.fit(x, y)\n",
    "log_pred = logmodel.predict(x)\n",
    "print (log_pred)\n",
    "result = pd.concat([df,pd.DataFrame(log_pred)],axis =1)\n",
    "result.rename (columns = {0:'Pred Play 0/1'},inplace= True)\n",
    "print (result)\n",
    "print('\\n Accuracy Score')\n",
    "print (accuracy_score (y,log_pred))\n",
    "print('\\nClassification Report')\n",
    "print(classification_report (y,log_pred))\n",
    "print('Confusion Matrix')\n",
    "print (confusion_matrix (y,log_pred))"
   ]
  },
  {
   "cell_type": "code",
   "execution_count": null,
   "id": "dd566baa",
   "metadata": {},
   "outputs": [],
   "source": [
    "from sklearn.neighbors import KNeighborsClassifier\n",
    "KNN1 = KNeighborsClassifier(n_neighbors =10 , metric = 'minkowski', p= 2)\n",
    "KNN1.fit(x,y)\n",
    "KNN1_pred = KNN1.predict(x)\n",
    "print (KNN1_pred)\n",
    "result = pd.concat([df,pd.DataFrame(KNN1_pred)],axis =1)\n",
    "result.rename (columns = {0:'Pred Play 0/1'},inplace= True)\n",
    "print (result)\n",
    "print('\\n Accuracy Score')\n",
    "print (accuracy_score (y,KNN1_pred))\n",
    "print('\\nClassification Report')\n",
    "print(classification_report (y,KNN1_pred))\n",
    "print('Confusion Matrix')\n",
    "print (confusion_matrix (y,KNN1_pred))"
   ]
  },
  {
   "cell_type": "code",
   "execution_count": null,
   "id": "a1b044f9",
   "metadata": {},
   "outputs": [],
   "source": [
    "from sklearn.naive_bayes import GaussianNB\n",
    "GNB= GaussianNB()\n",
    "GNB.fit(x,y)\n",
    "GNB_pred = GNB.predict(x)\n",
    "print (GNB_pred)\n",
    "result = pd.concat([df,pd.DataFrame(GNB_pred)],axis =1)\n",
    "result.rename (columns = {0:'Pred Play 0/1'},inplace= True)\n",
    "print (result)\n",
    "print('\\n Accuracy Score')\n",
    "print (accuracy_score (y,GNB_pred))\n",
    "print('\\nClassification Report')\n",
    "print(classification_report (y,GNB_pred))\n",
    "print('Confusion Matrix')\n",
    "print (confusion_matrix (y,GNB_pred))"
   ]
  },
  {
   "cell_type": "code",
   "execution_count": null,
   "id": "360c632e",
   "metadata": {},
   "outputs": [],
   "source": [
    "from sklearn.tree import DecisionTreeClassifier\n",
    "TREE = DecisionTreeClassifier (criterion = 'entropy')\n",
    "TREE.fit(x,y)\n",
    "TREE_pred = TREE.predict(x)\n",
    "print (TREE_pred)\n",
    "result = pd.concat([df,pd.DataFrame(TREE_pred)],axis =1)\n",
    "result.rename (columns = {0:'Pred Play 0/1'},inplace= True)\n",
    "print (result)\n",
    "print('\\n Accuracy Score')\n",
    "print (accuracy_score (y,TREE_pred))\n",
    "print('\\nClassification Report')\n",
    "print(classification_report (y,TREE_pred))\n",
    "print('Confusion Matrix')\n",
    "print (confusion_matrix (y,TREE_pred))"
   ]
  },
  {
   "cell_type": "code",
   "execution_count": null,
   "id": "054a0180",
   "metadata": {},
   "outputs": [],
   "source": [
    "from sklearn.tree import DecisionTreeClassifier\n",
    "TREE = DecisionTreeClassifier (criterion = 'gini')\n",
    "TREE.fit(x,y)\n",
    "TREE_pred = TREE.predict(x)\n",
    "print (TREE_pred)\n",
    "result = pd.concat([df,pd.DataFrame(TREE_pred)],axis =1)\n",
    "result.rename (columns = {0:'Pred Play 0/1'},inplace= True)\n",
    "print (result)\n",
    "print('\\n Accuracy Score')\n",
    "print (accuracy_score (y,TREE_pred))\n",
    "print('\\nClassification Report')\n",
    "print(classification_report (y,TREE_pred))\n",
    "print('Confusion Matrix')\n",
    "print (confusion_matrix (y,TREE_pred))"
   ]
  },
  {
   "cell_type": "code",
   "execution_count": null,
   "id": "d0cc1a75",
   "metadata": {},
   "outputs": [],
   "source": [
    "from sklearn.ensemble import RandomForestClassifier\n",
    "RF = RandomForestClassifier(n_estimators=4, criterion='entropy')\n",
    "RF.fit(x,y)\n",
    "RF_pred = RF.predict(x)\n",
    "print (RF_pred)\n",
    "result = pd.concat([df,pd.DataFrame(RF_pred)],axis =1)\n",
    "result.rename (columns = {0:'Pred Play 0/1'},inplace= True)\n",
    "print (result)\n",
    "print('\\n Accuracy Score')\n",
    "print (accuracy_score (y,RF_pred))\n",
    "print('\\nClassification Report')\n",
    "print(classification_report (y,RF_pred))\n",
    "print('Confusion Matrix')\n",
    "print (confusion_matrix (y,RF_pred))"
   ]
  }
 ],
 "metadata": {
  "kernelspec": {
   "display_name": "Python 3 (ipykernel)",
   "language": "python",
   "name": "python3"
  },
  "language_info": {
   "codemirror_mode": {
    "name": "ipython",
    "version": 3
   },
   "file_extension": ".py",
   "mimetype": "text/x-python",
   "name": "python",
   "nbconvert_exporter": "python",
   "pygments_lexer": "ipython3",
   "version": "3.11.5"
  }
 },
 "nbformat": 4,
 "nbformat_minor": 5
}
