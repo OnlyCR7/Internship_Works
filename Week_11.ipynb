{
 "cells": [
  {
   "cell_type": "code",
   "execution_count": null,
   "id": "10aec7a5",
   "metadata": {},
   "outputs": [],
   "source": [
    "import numpy as np\n",
    "import pandas as pd\n",
    "import matplotlib.pyplot as plt\n",
    "import os\n",
    "from sklearn.metrics import r2_score"
   ]
  },
  {
   "cell_type": "code",
   "execution_count": null,
   "id": "0cb1b1fa",
   "metadata": {},
   "outputs": [],
   "source": [
    "os.chdir(\"\")\n",
    "df1=pd.read_csv('50_Startups.csv')\n",
    "print (df1)"
   ]
  },
  {
   "cell_type": "code",
   "execution_count": null,
   "id": "82523b5a",
   "metadata": {},
   "outputs": [],
   "source": [
    "x = df1.iloc[:,:-1].values\n",
    "print (x)"
   ]
  },
  {
   "cell_type": "code",
   "execution_count": null,
   "id": "8bb486dd",
   "metadata": {},
   "outputs": [],
   "source": [
    "y = df1.iloc[:,4].values\n",
    "print (y)"
   ]
  },
  {
   "cell_type": "code",
   "execution_count": null,
   "id": "7ae23609",
   "metadata": {},
   "outputs": [],
   "source": [
    "from sklearn.preprocessing import LabelEncoder\n",
    "Label = LabelEncoder()\n",
    "x[:,3]= Label.fit_transform(x[:,3])\n",
    "print (x)"
   ]
  },
  {
   "cell_type": "code",
   "execution_count": null,
   "id": "c6255be4",
   "metadata": {},
   "outputs": [],
   "source": [
    "from sklearn.compose import ColumnTransformer\n",
    "from sklearn.preprocessing import OneHotEncoder\n",
    "ct = ColumnTransformer(transformers=[('encoder', OneHotEncoder(), [3])], remainder='passthrough')\n",
    "x = np.array(ct.fit_transform(x))\n",
    "print (x)"
   ]
  },
  {
   "cell_type": "code",
   "execution_count": null,
   "id": "5431b65c",
   "metadata": {},
   "outputs": [],
   "source": [
    "print (pd.DataFrame(x))"
   ]
  },
  {
   "cell_type": "code",
   "execution_count": null,
   "id": "08a2a113",
   "metadata": {},
   "outputs": [],
   "source": [
    "from sklearn.model_selection import train_test_split\n",
    "x_train,x_test,y_train,y_test =train_test_split (x,y,test_size = 0.2,random_state= 42)\n",
    "print ('X Shape-',x.shape)\n",
    "print ('Y Shape-', y.shape)\n",
    "print ('X_Train Shape-',x_train.shape)\n",
    "print ('Y_Train Shape-',y_train.shape)\n",
    "print ('X_Test Shape-',x_test.shape)\n",
    "print ('Y_Test Shape-',y_test.shape)"
   ]
  },
  {
   "cell_type": "code",
   "execution_count": null,
   "id": "58621277",
   "metadata": {},
   "outputs": [],
   "source": [
    "from sklearn.linear_model import LinearRegression\n",
    "lr= LinearRegression()\n",
    "lr.fit(x_train,y_train)\n",
    "print (lr)"
   ]
  },
  {
   "cell_type": "code",
   "execution_count": null,
   "id": "34605aa2",
   "metadata": {},
   "outputs": [],
   "source": [
    "y_pred= lr.predict(x_test)\n",
    "print (y_pred)"
   ]
  },
  {
   "cell_type": "code",
   "execution_count": null,
   "id": "06664b76",
   "metadata": {},
   "outputs": [],
   "source": [
    "result = pd.concat([pd.DataFrame(y_pred, columns = ['Prediction']),\n",
    "                    pd.DataFrame(y_test,columns = ['Y_Test'])], axis =1)\n",
    "result['Difference']= y_test -y_pred\n",
    "print (result)"
   ]
  },
  {
   "cell_type": "code",
   "execution_count": null,
   "id": "39e87cb6",
   "metadata": {},
   "outputs": [],
   "source": [
    "y_pre= pd.DataFrame(y_pred, columns =['Prediction'])\n",
    "y_te = pd.DataFrame(y_test,columns= ['Actual'])\n",
    "x_te = pd.DataFrame(x_test,columns= ['CF','FR','New Y','R&D','Admin','Mark'])\n",
    "result = pd.concat([x_te,y_te,y_pre], axis =1)\n",
    "result['Difference'] = y_pre ['Prediction']-y_te['Actual']\n",
    "display (result)"
   ]
  },
  {
   "cell_type": "code",
   "execution_count": null,
   "id": "c879fb70",
   "metadata": {},
   "outputs": [],
   "source": [
    "accuracy = r2_score(y_test, y_pred)\n",
    "print (accuracy)"
   ]
  },
  {
   "cell_type": "code",
   "execution_count": null,
   "id": "ee2ea325",
   "metadata": {},
   "outputs": [],
   "source": [
    "print (lr.coef_)"
   ]
  },
  {
   "cell_type": "code",
   "execution_count": null,
   "id": "3670b568",
   "metadata": {},
   "outputs": [],
   "source": [
    "print (lr.intercept_)"
   ]
  },
  {
   "cell_type": "code",
   "execution_count": null,
   "id": "1016f536",
   "metadata": {},
   "outputs": [],
   "source": [
    "y_fpred= lr.predict(x)\n",
    "print (y_fpred)"
   ]
  },
  {
   "cell_type": "code",
   "execution_count": null,
   "id": "35aa2dde",
   "metadata": {},
   "outputs": [],
   "source": [
    "y_fpred= pd.DataFrame(y_fpred, columns =['Prediction'])\n",
    "result = pd.concat([df1,y_fpred], axis =1)\n",
    "result['Difference'] = result['Profit'] - result ['Prediction']\n",
    "display (result)"
   ]
  },
  {
   "cell_type": "code",
   "execution_count": null,
   "id": "f11c0b11",
   "metadata": {},
   "outputs": [],
   "source": [
    "accuracy = r2_score(y, y_fpred)\n",
    "print (accuracy)"
   ]
  },
  {
   "cell_type": "code",
   "execution_count": null,
   "id": "bdcdc9e5",
   "metadata": {},
   "outputs": [],
   "source": [
    "print (x.dtype)"
   ]
  },
  {
   "cell_type": "code",
   "execution_count": null,
   "id": "3a1beb2e",
   "metadata": {},
   "outputs": [],
   "source": [
    "x=x.astype('float64')\n",
    "import statsmodels.api as sm\n",
    "reg_ols = sm.OLS (endog = y, exog = x)\n",
    "reg_ols = reg_ols.fit()\n",
    "print (reg_ols.summary())"
   ]
  },
  {
   "cell_type": "code",
   "execution_count": null,
   "id": "57115eca",
   "metadata": {},
   "outputs": [],
   "source": [
    "pd.DataFrame(x)"
   ]
  },
  {
   "cell_type": "code",
   "execution_count": null,
   "id": "052d42ce",
   "metadata": {},
   "outputs": [],
   "source": [
    "x_opt=x[:,[0,1,2,3,5]]\n",
    "import statsmodels.api as sm\n",
    "reg_ols = sm.OLS (endog = y, exog =x_opt)\n",
    "reg_ols = reg_ols.fit()\n",
    "print (reg_ols.summary())"
   ]
  },
  {
   "cell_type": "code",
   "execution_count": null,
   "id": "ab9b0708",
   "metadata": {},
   "outputs": [],
   "source": [
    "x_opt=x[:,[0,1,2,3]]\n",
    "import statsmodels.api as sm\n",
    "reg_ols = sm.OLS (endog = y, exog =x_opt)\n",
    "reg_ols = reg_ols.fit()\n",
    "print (reg_ols.summary())"
   ]
  },
  {
   "cell_type": "code",
   "execution_count": null,
   "id": "0b60b30d",
   "metadata": {},
   "outputs": [],
   "source": [
    "x_opt=x[:,[3]]\n",
    "import statsmodels.api as sm\n",
    "reg_ols = sm.OLS (endog = y, exog =x_opt)\n",
    "reg_ols = reg_ols.fit()\n",
    "print (reg_ols.summary())"
   ]
  },
  {
   "cell_type": "code",
   "execution_count": null,
   "id": "630c4e4a",
   "metadata": {},
   "outputs": [],
   "source": [
    "x_opt=x[:,[4]]\n",
    "import statsmodels.api as sm\n",
    "reg_ols = sm.OLS (endog = y, exog =x_opt)\n",
    "reg_ols = reg_ols.fit()\n",
    "print (reg_ols.summary())"
   ]
  },
  {
   "cell_type": "code",
   "execution_count": null,
   "id": "73c36973",
   "metadata": {},
   "outputs": [],
   "source": [
    "x_opt=x[:,[5]]\n",
    "import statsmodels.api as sm\n",
    "reg_ols = sm.OLS (endog = y, exog =x_opt)\n",
    "reg_ols = reg_ols.fit()\n",
    "print (reg_ols.summary())"
   ]
  },
  {
   "cell_type": "code",
   "execution_count": null,
   "id": "3bced4f1",
   "metadata": {},
   "outputs": [],
   "source": [
    "x_opt=x[:,[3]]\n",
    "from sklearn.model_selection import train_test_split\n",
    "xopt_train,xopt_test,y_train,y_test =train_test_split (x_opt,y,test_size = 0.2,random_state= 42)\n",
    "print (x_opt.shape)\n",
    "print ( y.shape)\n",
    "print (xopt_train.shape)\n",
    "print (xopt_test.shape)\n",
    "print (y_train.shape)\n",
    "print (y_test.shape)"
   ]
  },
  {
   "cell_type": "code",
   "execution_count": null,
   "id": "db9577a7",
   "metadata": {},
   "outputs": [],
   "source": [
    "from sklearn.linear_model import LinearRegression\n",
    "reg= LinearRegression()\n",
    "reg.fit(xopt_train,y_train)\n",
    "print (reg)"
   ]
  },
  {
   "cell_type": "code",
   "execution_count": null,
   "id": "cabdea72",
   "metadata": {},
   "outputs": [],
   "source": [
    "yopt_pred= reg.predict(xopt_test)\n",
    "print (yopt_pred)"
   ]
  },
  {
   "cell_type": "code",
   "execution_count": null,
   "id": "af56cd8b",
   "metadata": {},
   "outputs": [],
   "source": [
    "result = pd.concat([pd.DataFrame(yopt_pred, columns =['Prediction']),\n",
    "                    pd.DataFrame(y_test,columns = ['Y_Test'])], axis =1)\n",
    "result['Difference']= result['Y_Test'] - result ['Prediction']\n",
    "print (result)"
   ]
  },
  {
   "cell_type": "code",
   "execution_count": null,
   "id": "1ab82f72",
   "metadata": {},
   "outputs": [],
   "source": [
    "yopt_pre= pd.DataFrame(yopt_pred, columns =['Prediction'])\n",
    "y_te = pd.DataFrame(y_test,columns= ['Actual'])\n",
    "x_te = pd.DataFrame(x_test,columns= ['CF','FR','New Y','R&D','Admin','Mark'])\n",
    "result = pd.concat([x_te,y_te,yopt_pre], axis =1)\n",
    "print (result)"
   ]
  },
  {
   "cell_type": "code",
   "execution_count": null,
   "id": "751937b8",
   "metadata": {},
   "outputs": [],
   "source": [
    "accuracy = r2_score(y_test, yopt_pred)\n",
    "print (accuracy)"
   ]
  },
  {
   "cell_type": "code",
   "execution_count": null,
   "id": "4f060cb1",
   "metadata": {},
   "outputs": [],
   "source": [
    "yfull_pred= reg.predict(x_opt)\n",
    "print (yfull_pred)"
   ]
  },
  {
   "cell_type": "code",
   "execution_count": null,
   "id": "85e4d57d",
   "metadata": {},
   "outputs": [],
   "source": [
    "accuracy = r2_score(y, yfull_pred)\n",
    "print (accuracy)"
   ]
  },
  {
   "cell_type": "code",
   "execution_count": null,
   "id": "3dfc9373",
   "metadata": {},
   "outputs": [],
   "source": [
    "import seaborn as sns\n",
    "sns.regplot( x = yfull_pred, y = y, scatter_kws={\"color\": \"b\"}, \n",
    "            line_kws={\"color\": \"r\"},ci = None)\n",
    "plt.show()"
   ]
  },
  {
   "cell_type": "code",
   "execution_count": null,
   "id": "7a946ad7",
   "metadata": {},
   "outputs": [],
   "source": [
    "df_Predict=pd.read_csv('50_Startups_Predictions.csv')\n",
    "print (df_Predict)"
   ]
  },
  {
   "cell_type": "code",
   "execution_count": null,
   "id": "d27189b9",
   "metadata": {},
   "outputs": [],
   "source": [
    "print (df_Predict.count())"
   ]
  },
  {
   "cell_type": "code",
   "execution_count": null,
   "id": "8df12b01",
   "metadata": {},
   "outputs": [],
   "source": [
    "x_Predict = df_Predict.iloc[:,0:1].values\n",
    "print (x_Predict)"
   ]
  },
  {
   "cell_type": "code",
   "execution_count": null,
   "id": "3e4adfe7",
   "metadata": {},
   "outputs": [],
   "source": [
    "print (pd.DataFrame(x_Predict))"
   ]
  },
  {
   "cell_type": "code",
   "execution_count": null,
   "id": "bc652138",
   "metadata": {},
   "outputs": [],
   "source": [
    "yone_Predict= reg.predict(x_Predict )\n",
    "print (yone_Predict)"
   ]
  },
  {
   "cell_type": "code",
   "execution_count": null,
   "id": "c1d19416",
   "metadata": {},
   "outputs": [],
   "source": [
    "yone_Predict= pd.DataFrame(yone_Predict, columns =['Prediction'])\n",
    "result = pd.concat([df_Predict,yone_Predict], axis =1)\n",
    "result.to_excel('')\n",
    "print (result)"
   ]
  }
 ],
 "metadata": {
  "kernelspec": {
   "display_name": "Python 3 (ipykernel)",
   "language": "python",
   "name": "python3"
  },
  "language_info": {
   "codemirror_mode": {
    "name": "ipython",
    "version": 3
   },
   "file_extension": ".py",
   "mimetype": "text/x-python",
   "name": "python",
   "nbconvert_exporter": "python",
   "pygments_lexer": "ipython3",
   "version": "3.11.5"
  }
 },
 "nbformat": 4,
 "nbformat_minor": 5
}
