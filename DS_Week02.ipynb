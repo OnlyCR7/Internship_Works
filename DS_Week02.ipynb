{
 "cells": [
  {
   "cell_type": "code",
   "execution_count": 1,
   "id": "775920c0",
   "metadata": {},
   "outputs": [],
   "source": [
    "#1. Write a Python program to count the number 4 in a given list.\n",
    "\n",
    "def num_counter(my_list) :\n",
    "    count = 0\n",
    "    for num in my_list :\n",
    "        if num == 4 :\n",
    "            count += 1\n",
    "    return count\n",
    "\n",
    "my_list = [1,2,3,4,5,6,7,4]\n",
    "print(\"4 numbers in given list is :\" , num_counter(my_list))"
   ]
  },
  {
   "cell_type": "code",
   "execution_count": 2,
   "id": "e71d9853",
   "metadata": {},
   "outputs": [],
   "source": [
    "#2. Write a Python program to test whether a passed letter is a vowel or not.\n",
    "\n",
    "def find_vowel(char):\n",
    "    all_vowels = 'aeiou'\n",
    "    return char in all_vowels\n",
    "\n",
    "if find_vowel('a') == True :\n",
    "    print(\"It is vowel.\")\n",
    "else :\n",
    "    print(\"It is not vowel.\")"
   ]
  },
  {
   "cell_type": "code",
   "execution_count": 3,
   "id": "03e9be97",
   "metadata": {},
   "outputs": [],
   "source": [
    "#3. Write a Python program to check whether a specified value is contained in a group of values.\n",
    "\n",
    "def value_in_group(value , myset) :\n",
    "    return value in myset\n",
    "\n",
    "if value_in_group(3 , [1,2,3,4,5,6]) == True :\n",
    "    print(\"Value is in group.\")\n",
    "else :\n",
    "    print(\"Value is not in group.\")"
   ]
  },
  {
   "cell_type": "code",
   "execution_count": 4,
   "id": "dff1a54e",
   "metadata": {},
   "outputs": [],
   "source": [
    "#4. Write a Python program to create a histogram from a given list of integers.\n",
    "\n",
    "def histogram_plot(mylist) :\n",
    "    for i in mylist :\n",
    "        display = ' '\n",
    "        times = i\n",
    "        while(times > 0):\n",
    "            display += '@'\n",
    "            times = times - 1\n",
    "        print(display)\n",
    "\n",
    "histogram_plot([1,2,3,4,5,6])"
   ]
  },
  {
   "cell_type": "code",
   "execution_count": 5,
   "id": "4b5d1b23",
   "metadata": {},
   "outputs": [],
   "source": [
    "#5.Write a Python program to concatenate all elements in a list into a string and return it. \n",
    "\n",
    "def concatenate_list(mylist):\n",
    "    display = ' '\n",
    "    for ele in mylist:\n",
    "        display += str(ele)\n",
    "    return display\n",
    "\n",
    "print(concatenate_list([1, 5, 12, 2]))"
   ]
  },
  {
   "cell_type": "code",
   "execution_count": 6,
   "id": "38909b42",
   "metadata": {},
   "outputs": [],
   "source": [
    "#6 Write a Python program that will accept the base and height of a triangle and compute the area.\n",
    "\n",
    "b = int(input(\"Input the base :\"))\n",
    "h = int(input(\"Input the height :\"))\n",
    "area = b*h/2\n",
    "print(\"Area is :\" , area)"
   ]
  },
  {
   "cell_type": "code",
   "execution_count": 7,
   "id": "a8db0b03",
   "metadata": {},
   "outputs": [],
   "source": [
    "#7. Write a Python program to sum of three given integers. However, if two values are equal sum will be zero. \n",
    "\n",
    "def sum(x, y, z):\n",
    "    if x == y or y == z or x == z :\n",
    "        sum = 0\n",
    "    else:\n",
    "        sum = x + y + z\n",
    "    return sum\n",
    "\n",
    "print(\"Sum is :\" , sum(2, 1, 2))"
   ]
  },
  {
   "cell_type": "code",
   "execution_count": 8,
   "id": "055df30c",
   "metadata": {},
   "outputs": [],
   "source": [
    "#8. Write a Python program to sum of two given integers. However, if the sum is between 15 to 20 it will return 20. \n",
    "\n",
    "def sum(x, y):\n",
    "    sum = x + y\n",
    "    if sum in range(15, 20):\n",
    "        return 20\n",
    "    else:\n",
    "        return sum\n",
    "        \n",
    "print(\"Sum is :\" , sum(10, 6))"
   ]
  },
  {
   "cell_type": "code",
   "execution_count": 9,
   "id": "8ec81941",
   "metadata": {},
   "outputs": [],
   "source": [
    "#9. Write a Python program that will return true if the two given integer values are equal or their sum or difference is 5. \n",
    "\n",
    "def numbers(x, y):\n",
    "    if x == y or abs(x-y) == 5 or (x+y) == 5:\n",
    "        return True\n",
    "    else:\n",
    "        return False\n",
    "    \n",
    "print(numbers(7, 2))"
   ]
  },
  {
   "cell_type": "code",
   "execution_count": 10,
   "id": "bef2a528",
   "metadata": {},
   "outputs": [],
   "source": [
    "#10. Write a python program to compute the distance between the points.\n",
    "\n",
    "import math as m\n",
    "def calculate_distance(x1, y1, x2, y2):\n",
    "    distance = m.sqrt((x2 - x1)**2 + (y2 - y1)**2)\n",
    "    return distance\n",
    "x1 = float(input(\"Enter the x-coordinate of the first point: \"))\n",
    "y1 = float(input(\"Enter the y-coordinate of the first point: \"))\n",
    "x2 = float(input(\"Enter the x-coordinate of the second point: \"))\n",
    "y2 = float(input(\"Enter the y-coordinate of the second point: \"))\n",
    "result = calculate_distance(x1, y1, x2, y2)\n",
    "print(\"The distance between the points is: \" , result)"
   ]
  }
 ],
 "metadata": {
  "kernelspec": {
   "display_name": "Python 3 (ipykernel)",
   "language": "python",
   "name": "python3"
  },
  "language_info": {
   "codemirror_mode": {
    "name": "ipython",
    "version": 3
   },
   "file_extension": ".py",
   "mimetype": "text/x-python",
   "name": "python",
   "nbconvert_exporter": "python",
   "pygments_lexer": "ipython3",
   "version": "3.11.5"
  }
 },
 "nbformat": 4,
 "nbformat_minor": 5
}
