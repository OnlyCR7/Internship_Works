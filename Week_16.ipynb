{
 "cells": [
  {
   "cell_type": "code",
   "execution_count": null,
   "id": "d563c324",
   "metadata": {},
   "outputs": [],
   "source": [
    "import numpy as np\n",
    "import matplotlib.pyplot as plt\n",
    "import pandas as pd\n",
    "import os"
   ]
  },
  {
   "cell_type": "code",
   "execution_count": null,
   "id": "bf9a6fd2",
   "metadata": {},
   "outputs": [],
   "source": [
    "os.chdir ('')\n",
    "dataset = pd.read_csv('Wine.csv')\n",
    "display(dataset)\n"
   ]
  },
  {
   "cell_type": "code",
   "execution_count": null,
   "id": "53f6b185",
   "metadata": {},
   "outputs": [],
   "source": [
    "X = dataset.iloc[:, :-1].values\n",
    "display(pd.DataFrame(X))"
   ]
  },
  {
   "cell_type": "code",
   "execution_count": null,
   "id": "62dfee8c",
   "metadata": {},
   "outputs": [],
   "source": [
    "y = dataset.iloc[:, -1].values\n",
    "display(y)"
   ]
  },
  {
   "cell_type": "code",
   "execution_count": null,
   "id": "a3ab3ea6",
   "metadata": {},
   "outputs": [],
   "source": [
    "from sklearn.preprocessing import StandardScaler\n",
    "sc = StandardScaler()\n",
    "sc_x = sc.fit_transform(X)\n",
    "display (pd.DataFrame(sc_x))"
   ]
  },
  {
   "cell_type": "code",
   "execution_count": null,
   "id": "69753da2",
   "metadata": {},
   "outputs": [],
   "source": [
    "from sklearn.decomposition import PCA\n",
    "pca = PCA()\n",
    "pca_x= pca.fit_transform(sc_x)\n",
    "pd.DataFrame(pca_x)"
   ]
  },
  {
   "cell_type": "code",
   "execution_count": null,
   "id": "9df20ce3",
   "metadata": {},
   "outputs": [],
   "source": [
    "print (pd.DataFrame(pca.explained_variance_ratio_))"
   ]
  },
  {
   "cell_type": "code",
   "execution_count": null,
   "id": "1b051c5f",
   "metadata": {},
   "outputs": [],
   "source": [
    "from sklearn.decomposition import PCA\n",
    "pca = PCA(n_components =2)\n",
    "pca_x= pca.fit_transform(sc_x)\n",
    "display (pd.DataFrame(pca_x))"
   ]
  },
  {
   "cell_type": "code",
   "execution_count": null,
   "id": "1b5cb237",
   "metadata": {},
   "outputs": [],
   "source": [
    "print (pd.DataFrame(pca.explained_variance_ratio_))"
   ]
  },
  {
   "cell_type": "code",
   "execution_count": null,
   "id": "45c4b4d1",
   "metadata": {},
   "outputs": [],
   "source": [
    "from sklearn.model_selection import train_test_split\n",
    "pca_x_train, pca_x_test, y_train, y_test = train_test_split(pca_x , y, test_size = 0.2, random_state = 0)\n",
    "print (pca_x.shape)\n",
    "print (pca_x_train.shape)\n",
    "print (pca_x_test.shape)"
   ]
  },
  {
   "cell_type": "code",
   "execution_count": null,
   "id": "abcf41df",
   "metadata": {},
   "outputs": [],
   "source": [
    "from sklearn.linear_model import LogisticRegression\n",
    "lr = LogisticRegression(random_state = 0)\n",
    "lr.fit(pca_x_train, y_train)"
   ]
  },
  {
   "cell_type": "code",
   "execution_count": null,
   "id": "1d5824b3",
   "metadata": {},
   "outputs": [],
   "source": [
    "y_pred = lr.predict(pca_x_test)\n",
    "print (y_pred)"
   ]
  },
  {
   "cell_type": "code",
   "execution_count": null,
   "id": "56015961",
   "metadata": {},
   "outputs": [],
   "source": [
    "from sklearn.metrics import confusion_matrix, accuracy_score\n",
    "print (accuracy_score(y_test, y_pred))\n",
    "cm = confusion_matrix(y_test, y_pred)\n",
    "print(cm)"
   ]
  },
  {
   "cell_type": "code",
   "execution_count": null,
   "id": "5b2c39b4",
   "metadata": {},
   "outputs": [],
   "source": [
    "from sklearn.decomposition import PCA\n",
    "pca = PCA(n_components =1)\n",
    "pca_x= pca.fit_transform(sc_x)\n",
    "display (pd.DataFrame(pca_x))"
   ]
  },
  {
   "cell_type": "code",
   "execution_count": null,
   "id": "606b18e8",
   "metadata": {},
   "outputs": [],
   "source": [
    "print (pd.DataFrame(pca.explained_variance_ratio_))"
   ]
  },
  {
   "cell_type": "code",
   "execution_count": null,
   "id": "69eba9e4",
   "metadata": {},
   "outputs": [],
   "source": [
    "from sklearn.model_selection import train_test_split\n",
    "pca_x_train, pca_x_test, y_train, y_test = train_test_split(pca_x , y, test_size = 0.2, random_state = 0)\n",
    "print (pca_x.shape)\n",
    "print (pca_x_train.shape)\n",
    "print (pca_x_test.shape)"
   ]
  },
  {
   "cell_type": "code",
   "execution_count": null,
   "id": "585afa36",
   "metadata": {},
   "outputs": [],
   "source": [
    "from sklearn.linear_model import LogisticRegression\n",
    "lr = LogisticRegression(random_state = 0)\n",
    "lr.fit(pca_x_train, y_train)"
   ]
  },
  {
   "cell_type": "code",
   "execution_count": null,
   "id": "2a1acdd2",
   "metadata": {},
   "outputs": [],
   "source": [
    "y_pred = lr.predict(pca_x_test)\n",
    "print (y_pred)"
   ]
  },
  {
   "cell_type": "code",
   "execution_count": null,
   "id": "84622722",
   "metadata": {},
   "outputs": [],
   "source": [
    "from sklearn.metrics import confusion_matrix, accuracy_score\n",
    "print (accuracy_score(y_test, y_pred))\n",
    "cm = confusion_matrix(y_test, y_pred)\n",
    "print(cm)"
   ]
  }
 ],
 "metadata": {
  "kernelspec": {
   "display_name": "Python 3 (ipykernel)",
   "language": "python",
   "name": "python3"
  },
  "language_info": {
   "codemirror_mode": {
    "name": "ipython",
    "version": 3
   },
   "file_extension": ".py",
   "mimetype": "text/x-python",
   "name": "python",
   "nbconvert_exporter": "python",
   "pygments_lexer": "ipython3",
   "version": "3.11.5"
  }
 },
 "nbformat": 4,
 "nbformat_minor": 5
}
