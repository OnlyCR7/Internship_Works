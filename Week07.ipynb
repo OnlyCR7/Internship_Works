{
 "cells": [
  {
   "cell_type": "code",
   "execution_count": null,
   "id": "a46122e9",
   "metadata": {},
   "outputs": [],
   "source": [
    "#1. Write a NumPy program to convert a list of numeric value into a one-dimensional NumPy array. \n",
    "\n",
    "import numpy as np\n",
    "l = [12.23, 13.32, 100, 36.32]\n",
    "print(\"Original List:\",l)\n",
    "a = np.array(l)\n",
    "print(\"One-dimensional NumPy array: \",a)"
   ]
  },
  {
   "cell_type": "code",
   "execution_count": null,
   "id": "1efe3908",
   "metadata": {},
   "outputs": [],
   "source": [
    "#2.Write a NumPy program to create a 3x3 matrix with values ranging from 2 to 10.  \n",
    "\n",
    "import numpy as np\n",
    "x =  np.arange(2, 11).reshape(3,3)\n",
    "print(x)"
   ]
  },
  {
   "cell_type": "code",
   "execution_count": null,
   "id": "1445e6fa",
   "metadata": {},
   "outputs": [],
   "source": [
    "#3. Write a NumPy program to create a null vector of size 10 and update sixth value to 11. \n",
    "\n",
    "import numpy as np\n",
    "x = np.zeros(10)\n",
    "print(x)\n",
    "print(\"Update sixth value to 11\")\n",
    "x[6] = 11\n",
    "print(x)"
   ]
  },
  {
   "cell_type": "code",
   "execution_count": null,
   "id": "90beed12",
   "metadata": {},
   "outputs": [],
   "source": [
    "#4. Write a NumPy program to create an array with values ranging from 12 to 38. \n",
    "\n",
    "import numpy as np\n",
    "x = np.arange(12, 38)\n",
    "print(x)"
   ]
  },
  {
   "cell_type": "code",
   "execution_count": null,
   "id": "e859e3c5",
   "metadata": {},
   "outputs": [],
   "source": [
    "#5. Write a NumPy program to reverse an array (first element becomes last). \n",
    "\n",
    "import numpy as np\n",
    "import numpy as np\n",
    "x = np.arange(12, 38)\n",
    "print(\"Original array:\")\n",
    "print(x)\n",
    "print(\"Reverse array:\")\n",
    "x = x[::-1]\n",
    "print(x)"
   ]
  },
  {
   "cell_type": "code",
   "execution_count": null,
   "id": "926baaf3",
   "metadata": {},
   "outputs": [],
   "source": [
    "#6. Write a NumPy program to convert an array to a float type.  \n",
    "\n",
    "import numpy as np\n",
    "import numpy as np\n",
    "a = [1, 2, 3, 4]\n",
    "print(\"Original array\")\n",
    "print(a)\n",
    "x = np.asfarray(a)\n",
    "print(\"Array converted to a float type:\")\n",
    "print(x)\n"
   ]
  },
  {
   "cell_type": "code",
   "execution_count": null,
   "id": "2fdc2ade",
   "metadata": {},
   "outputs": [],
   "source": [
    "#7. Write a NumPy program to create a 2d array with 1 on the border and 0 inside. \n",
    "\n",
    "import numpy as np\n",
    "x = np.ones((5,5))\n",
    "print(\"Original array:\")\n",
    "print(x)\n",
    "print(\"1 on the border and 0 inside in the array\")\n",
    "x[1:-1,1:-1] = 0\n",
    "print(x)"
   ]
  },
  {
   "cell_type": "code",
   "execution_count": null,
   "id": "141fb2ac",
   "metadata": {},
   "outputs": [],
   "source": [
    "#8. Write a NumPy program to add a border (filled with 0's) around an existing array. \n",
    "                                          \n",
    "import numpy as np\n",
    "x = np.ones((3,3))\n",
    "print(\"Original array:\")\n",
    "print(x)\n",
    "print(\"0 on the border and 1 inside in the array\")\n",
    "x = np.pad(x, pad_width=1, mode='constant', constant_values=0)\n",
    "print(x)                                          "
   ]
  },
  {
   "cell_type": "code",
   "execution_count": null,
   "id": "f944122b",
   "metadata": {},
   "outputs": [],
   "source": [
    "#9. Write a NumPy program to create a 8x8 matrix and fill it with a checkerboard pattern.  \n",
    "\n",
    "import numpy as np\n",
    "x = np.ones((3,3))\n",
    "print(\"Checkerboard pattern:\")\n",
    "x = np.zeros((8,8),dtype=int)\n",
    "x[1::2,::2] = 1\n",
    "x[::2,1::2] = 1\n",
    "print(x)"
   ]
  },
  {
   "cell_type": "code",
   "execution_count": null,
   "id": "c5d7e6b7",
   "metadata": {},
   "outputs": [],
   "source": [
    "#10. Write a NumPy program to convert a list and tuple into arrays. \n",
    "\n",
    "import numpy as np\n",
    "my_list = [1, 2, 3, 4, 5, 6, 7, 8]\n",
    "print(\"List to array: \")\n",
    "print(np.asarray(my_list))\n",
    "my_tuple = ([8, 4, 6], [1, 2, 3])\n",
    "print(\"Tuple to array: \")\n",
    "print(np.asarray(my_tuple))"
   ]
  },
  {
   "cell_type": "code",
   "execution_count": null,
   "id": "7e9afb32",
   "metadata": {},
   "outputs": [],
   "source": [
    "#11. Write a NumPy program to append values to the end of an array.  \n",
    "\n",
    "import numpy as np\n",
    "x = [10, 20, 30]\n",
    "print(\"Original array:\")\n",
    "print(x)\n",
    "x = np.append(x, [[40, 50, 60], [70, 80, 90]])\n",
    "print(\"After append values to the end of the array:\")\n",
    "print(x)"
   ]
  },
  {
   "cell_type": "code",
   "execution_count": null,
   "id": "4b82263f",
   "metadata": {},
   "outputs": [],
   "source": [
    "#12. Write a NumPy program to create an empty and a full array. \n",
    "\n",
    "\n",
    "import numpy as np\n",
    "# Create an empty array\n",
    "x = np.empty((3,4))\n",
    "print(x)\n",
    "# Create a full array\n",
    "y = np.full((3,3),6)\n",
    "print(y)"
   ]
  },
  {
   "cell_type": "code",
   "execution_count": null,
   "id": "8f1132f6",
   "metadata": {},
   "outputs": [],
   "source": [
    "#13. Write a NumPy program to convert the values of Centigrade degrees into Fahrenheit degrees. Centigrade values are stored into a NumPy array. \n",
    "\n",
    "import numpy as np\n",
    "fvalues = [0, 12, 45.21, 34, 99.91]\n",
    "F = np.array(fvalues)\n",
    "print(\"Values in Fahrenheit degrees:\")\n",
    "print(F)\n",
    "print(\"Values in  Centigrade degrees:\") \n",
    "print(5*F/9 - 5*32/9)"
   ]
  },
  {
   "cell_type": "code",
   "execution_count": null,
   "id": "3392719a",
   "metadata": {},
   "outputs": [],
   "source": [
    "#14. Write a NumPy program to find the real and imaginary parts of an array of complex numbers.  \n",
    "\n",
    "import numpy as np\n",
    "x = np.sqrt([1+0j])\n",
    "y = np.sqrt([0+1j])\n",
    "print(\"Original array:x \",x)\n",
    "print(\"Original array:y \",y)\n",
    "print(\"Real part of the array:\")\n",
    "print(x.real)\n",
    "print(y.real)\n",
    "print(\"Imaginary part of the array:\")\n",
    "print(x.imag)\n",
    "print(y.imag)"
   ]
  }
 ],
 "metadata": {
  "kernelspec": {
   "display_name": "Python 3 (ipykernel)",
   "language": "python",
   "name": "python3"
  },
  "language_info": {
   "codemirror_mode": {
    "name": "ipython",
    "version": 3
   },
   "file_extension": ".py",
   "mimetype": "text/x-python",
   "name": "python",
   "nbconvert_exporter": "python",
   "pygments_lexer": "ipython3",
   "version": "3.11.5"
  }
 },
 "nbformat": 4,
 "nbformat_minor": 5
}
