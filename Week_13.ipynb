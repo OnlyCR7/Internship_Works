{
 "cells": [
  {
   "cell_type": "code",
   "execution_count": null,
   "id": "caf0df65",
   "metadata": {},
   "outputs": [],
   "source": [
    "import numpy as np\n",
    "import pandas as pd\n",
    "import matplotlib.pyplot as plt\n",
    "import seaborn as sns\n",
    "import os\n",
    "from sklearn.metrics import confusion_matrix \n",
    "from sklearn.model_selection import train_test_split"
   ]
  },
  {
   "cell_type": "code",
   "execution_count": null,
   "id": "03ac55a8",
   "metadata": {},
   "outputs": [],
   "source": [
    "os.chdir('')\n",
    "df1 = pd.read_csv('Social_Network_Ads.csv')\n",
    "print (df1)"
   ]
  },
  {
   "cell_type": "code",
   "execution_count": null,
   "id": "6a5c46ad",
   "metadata": {},
   "outputs": [],
   "source": [
    "x= df1.iloc [:,2:4].values\n",
    "print (x) "
   ]
  },
  {
   "cell_type": "code",
   "execution_count": null,
   "id": "6dde27f1",
   "metadata": {},
   "outputs": [],
   "source": [
    "y = df1.iloc[:,4].values\n",
    "print (y)"
   ]
  },
  {
   "cell_type": "code",
   "execution_count": null,
   "id": "3418c53e",
   "metadata": {},
   "outputs": [],
   "source": [
    "from sklearn.preprocessing import StandardScaler\n",
    "sc_x= StandardScaler()\n",
    "x = sc_x.fit_transform(x)\n",
    "print (x)"
   ]
  },
  {
   "cell_type": "code",
   "execution_count": null,
   "id": "acb571a7",
   "metadata": {},
   "outputs": [],
   "source": [
    "x_train,x_test,y_train,y_test = train_test_split(x,y,test_size= 0.2)\n",
    "print (x.shape)\n",
    "print (x_train.shape)\n",
    "print (x_test.shape)\n",
    "print (y_train.shape)\n",
    "print (y_test.shape)"
   ]
  },
  {
   "cell_type": "code",
   "execution_count": null,
   "id": "b0c29ea3",
   "metadata": {},
   "outputs": [],
   "source": [
    "from sklearn.naive_bayes import GaussianNB\n",
    "GNB = GaussianNB()\n",
    "GNB.fit(x_train,y_train)\n",
    "print (GNB)"
   ]
  },
  {
   "cell_type": "code",
   "execution_count": null,
   "id": "2e1f0243",
   "metadata": {},
   "outputs": [],
   "source": [
    "GNB_pred = GNB.predict(x)\n",
    "print (GNB_pred)"
   ]
  },
  {
   "cell_type": "code",
   "execution_count": null,
   "id": "d80ec6c3",
   "metadata": {},
   "outputs": [],
   "source": [
    "df_GNBpred = pd.DataFrame(GNB_pred,columns = ['Prediction'])\n",
    "result = pd.concat ([df1, df_GNBpred],axis = 1 )\n",
    "print (result)"
   ]
  },
  {
   "cell_type": "code",
   "execution_count": null,
   "id": "1b525768",
   "metadata": {},
   "outputs": [],
   "source": [
    "from sklearn.metrics import accuracy_score\n",
    "print (accuracy_score (y, GNB_pred))"
   ]
  },
  {
   "cell_type": "code",
   "execution_count": null,
   "id": "0f727fa7",
   "metadata": {},
   "outputs": [],
   "source": [
    "from sklearn.metrics import classification_report\n",
    "print(classification_report (y, GNB_pred, zero_division=0))"
   ]
  },
  {
   "cell_type": "code",
   "execution_count": null,
   "id": "61891c3a",
   "metadata": {},
   "outputs": [],
   "source": [
    "cm = confusion_matrix (y , GNB_pred)\n",
    "print (cm)"
   ]
  },
  {
   "cell_type": "code",
   "execution_count": null,
   "id": "c5ef3094",
   "metadata": {},
   "outputs": [],
   "source": [
    "from sklearn.naive_bayes import BernoulliNB\n",
    "BNB = BernoulliNB()\n",
    "BNB.fit(x_train,y_train)\n",
    "print (BNB)"
   ]
  },
  {
   "cell_type": "code",
   "execution_count": null,
   "id": "b9d8f84d",
   "metadata": {},
   "outputs": [],
   "source": [
    "BNB_pred= BNB.predict(x)\n",
    "print (BNB_pred)"
   ]
  },
  {
   "cell_type": "code",
   "execution_count": null,
   "id": "c97271cf",
   "metadata": {},
   "outputs": [],
   "source": [
    "df_BNBpred = pd.DataFrame(BNB_pred,columns = ['Prediction'])\n",
    "result = pd.concat ([df1, df_BNBpred],axis = 1 )\n",
    "print (result)"
   ]
  },
  {
   "cell_type": "code",
   "execution_count": null,
   "id": "c7fac1a7",
   "metadata": {},
   "outputs": [],
   "source": [
    "cm = confusion_matrix (y, BNB_pred)\n",
    "print (cm)"
   ]
  },
  {
   "cell_type": "code",
   "execution_count": null,
   "id": "bb06807c",
   "metadata": {},
   "outputs": [],
   "source": [
    "x= df1.iloc [:,2:4].values\n",
    "y= df1.iloc[:,4].values\n",
    "from sklearn.preprocessing import MinMaxScaler\n",
    "minmax_x= MinMaxScaler()\n",
    "minmax_x = minmax_x.fit_transform(x)\n",
    "print (minmax_x)"
   ]
  },
  {
   "cell_type": "code",
   "execution_count": null,
   "id": "b76ef885",
   "metadata": {},
   "outputs": [],
   "source": [
    "x= df1.iloc [:,2:4].values\n",
    "y= df1.iloc[:,4].values\n",
    "from sklearn.preprocessing import MinMaxScaler\n",
    "minmax_x= MinMaxScaler()\n",
    "minmax_x = minmax_x.fit_transform(x)\n",
    "print (minmax_x)"
   ]
  },
  {
   "cell_type": "code",
   "execution_count": null,
   "id": "d329309e",
   "metadata": {},
   "outputs": [],
   "source": [
    "from sklearn.naive_bayes import MultinomialNB\n",
    "MNB = MultinomialNB()\n",
    "MNB.fit(x_train,y_train)\n",
    "print (MNB)"
   ]
  },
  {
   "cell_type": "code",
   "execution_count": null,
   "id": "b271b58b",
   "metadata": {},
   "outputs": [],
   "source": [
    "MNB_pred = MNB.predict(x)\n",
    "print (MNB_pred)"
   ]
  },
  {
   "cell_type": "code",
   "execution_count": null,
   "id": "9e1a99e4",
   "metadata": {},
   "outputs": [],
   "source": [
    "from sklearn.metrics import accuracy_score\n",
    "print (accuracy_score (y,MNB_pred))"
   ]
  },
  {
   "cell_type": "code",
   "execution_count": null,
   "id": "090669f2",
   "metadata": {},
   "outputs": [],
   "source": [
    "from sklearn.metrics import classification_report\n",
    "print(classification_report (y,MNB_pred,zero_division=0))"
   ]
  },
  {
   "cell_type": "code",
   "execution_count": null,
   "id": "ed1eab06",
   "metadata": {},
   "outputs": [],
   "source": [
    "cm = confusion_matrix (y, MNB_pred)\n",
    "print (cm)"
   ]
  }
 ],
 "metadata": {
  "kernelspec": {
   "display_name": "Python 3 (ipykernel)",
   "language": "python",
   "name": "python3"
  },
  "language_info": {
   "codemirror_mode": {
    "name": "ipython",
    "version": 3
   },
   "file_extension": ".py",
   "mimetype": "text/x-python",
   "name": "python",
   "nbconvert_exporter": "python",
   "pygments_lexer": "ipython3",
   "version": "3.11.5"
  }
 },
 "nbformat": 4,
 "nbformat_minor": 5
}
