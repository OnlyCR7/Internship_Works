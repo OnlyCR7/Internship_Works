{
 "cells": [
  {
   "cell_type": "code",
   "execution_count": null,
   "id": "bd296ff8",
   "metadata": {},
   "outputs": [],
   "source": [
    "import pandas as pd \n",
    "import numpy as np \n",
    "import matplotlib.pyplot as plt \n",
    "from  sklearn.metrics import r2_score\n",
    "import os"
   ]
  },
  {
   "cell_type": "code",
   "execution_count": null,
   "id": "937ce9ce",
   "metadata": {},
   "outputs": [],
   "source": [
    "os.chdir('')\n",
    "data = pd.read_csv('Height_Weight_Dataset.csv') \n",
    "display (data)"
   ]
  },
  {
   "cell_type": "code",
   "execution_count": null,
   "id": "00764eff",
   "metadata": {},
   "outputs": [],
   "source": [
    "x = data.iloc[:, 0:1].values \n",
    "print (x.shape)\n",
    "print (x)"
   ]
  },
  {
   "cell_type": "code",
   "execution_count": null,
   "id": "564c2899",
   "metadata": {},
   "outputs": [],
   "source": [
    "y = data.iloc[:, 1].values\n",
    "print (y.shape)\n",
    "print (y)"
   ]
  },
  {
   "cell_type": "code",
   "execution_count": null,
   "id": "83b90ad1",
   "metadata": {},
   "outputs": [],
   "source": [
    "plt.plot(x,y)\n",
    "plt.xlabel('Age')\n",
    "plt.ylabel('Height')\n",
    "plt.show()"
   ]
  },
  {
   "cell_type": "code",
   "execution_count": null,
   "id": "ac47df9f",
   "metadata": {},
   "outputs": [],
   "source": [
    "from sklearn.model_selection import train_test_split\n",
    "x_train, x_test, y_train, y_test = train_test_split(x, y, test_size=0.3, random_state=0)\n",
    "print (x.shape)\n",
    "print (y.shape)\n",
    "print (x_train.shape)\n",
    "print (x_test.shape)\n",
    "print (y_train.shape)\n",
    "print (y_test.shape)"
   ]
  },
  {
   "cell_type": "code",
   "execution_count": null,
   "id": "b652b805",
   "metadata": {},
   "outputs": [],
   "source": [
    "from sklearn.linear_model import LinearRegression\n",
    "lr = LinearRegression()\n",
    "lr.fit(x_train, y_train)\n",
    "print (lr)"
   ]
  },
  {
   "cell_type": "code",
   "execution_count": null,
   "id": "8ff8f0c0",
   "metadata": {},
   "outputs": [],
   "source": [
    "y_pred = lr.predict(x)\n",
    "accuracy = r2_score(y,y_pred)\n",
    "print (accuracy)\n",
    "print (y_pred)"
   ]
  },
  {
   "cell_type": "code",
   "execution_count": null,
   "id": "96848bcf",
   "metadata": {},
   "outputs": [],
   "source": [
    "result = pd.concat ([data,pd.DataFrame(y_pred, columns = ['Prediction'])],axis =1)\n",
    "result ['Difference'] = result['Height'] - result['Prediction']\n",
    "print (result)"
   ]
  },
  {
   "cell_type": "code",
   "execution_count": null,
   "id": "e12d6ee2",
   "metadata": {},
   "outputs": [],
   "source": [
    "plt.scatter(x,y, color = 'green') \n",
    "plt.plot(x, y_pred, color = 'blue') \n",
    "plt.title('Linear Regression') \n",
    "plt.xlabel('Age') \n",
    "plt.ylabel('Height')   \n",
    "plt.show()"
   ]
  },
  {
   "cell_type": "code",
   "execution_count": null,
   "id": "db118f41",
   "metadata": {},
   "outputs": [],
   "source": [
    "from sklearn.preprocessing import PolynomialFeatures \n",
    "polynom2 = PolynomialFeatures(degree = 2) \n",
    "x_polynom = polynom2.fit_transform(x) \n",
    "print (pd.DataFrame(x_polynom).head(50))"
   ]
  },
  {
   "cell_type": "code",
   "execution_count": null,
   "id": "ac3a92ce",
   "metadata": {},
   "outputs": [],
   "source": [
    "from sklearn.model_selection import train_test_split\n",
    "xpoly_train, xpoly_test, ypoly_train, ypoly_test = train_test_split(x_polynom, y, test_size=0.3, random_state=0)\n",
    "print (x_polynom.shape)\n",
    "print (y.shape)\n",
    "print (xpoly_train.shape)\n",
    "print (xpoly_test.shape)\n",
    "print (ypoly_train.shape)\n",
    "print (ypoly_test.shape)"
   ]
  },
  {
   "cell_type": "code",
   "execution_count": null,
   "id": "2263a89c",
   "metadata": {},
   "outputs": [],
   "source": [
    "PolyReg2 = LinearRegression() \n",
    "PolyReg2.fit(xpoly_train, ypoly_train)\n",
    "print (PolyReg2)"
   ]
  },
  {
   "cell_type": "code",
   "execution_count": null,
   "id": "1cb11da6",
   "metadata": {},
   "outputs": [],
   "source": [
    "ypoly_pred2 = PolyReg2.predict(x_polynom)\n",
    "accuracy2 = r2_score(ypoly_pred2,y)\n",
    "print (accuracy2)"
   ]
  },
  {
   "cell_type": "code",
   "execution_count": null,
   "id": "a67befa2",
   "metadata": {},
   "outputs": [],
   "source": [
    "plt.scatter(x,y, color = 'green') \n",
    "plt.plot(x, ypoly_pred2, color = 'blue') \n",
    "plt.title('Polynomial Regression') \n",
    "plt.xlabel('Age') \n",
    "plt.ylabel('Height') \n",
    "plt.show()"
   ]
  },
  {
   "cell_type": "code",
   "execution_count": null,
   "id": "2950c74e",
   "metadata": {},
   "outputs": [],
   "source": [
    "plt.plot(x,y, color = 'green') \n",
    "plt.plot (x,y_pred, color = 'red')\n",
    "plt.plot(x, ypoly_pred2, color = 'blue') \n",
    "plt.xlabel('Age') \n",
    "plt.ylabel('Height') \n",
    "plt.show()"
   ]
  }
 ],
 "metadata": {
  "kernelspec": {
   "display_name": "Python 3 (ipykernel)",
   "language": "python",
   "name": "python3"
  },
  "language_info": {
   "codemirror_mode": {
    "name": "ipython",
    "version": 3
   },
   "file_extension": ".py",
   "mimetype": "text/x-python",
   "name": "python",
   "nbconvert_exporter": "python",
   "pygments_lexer": "ipython3",
   "version": "3.11.5"
  }
 },
 "nbformat": 4,
 "nbformat_minor": 5
}
