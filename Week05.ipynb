{
 "cells": [
  {
   "cell_type": "code",
   "execution_count": 1,
   "id": "4ba4aeaa",
   "metadata": {},
   "outputs": [
    {
     "name": "stdout",
     "output_type": "stream",
     "text": [
      "4\n"
     ]
    }
   ],
   "source": [
    "#1. What is the output of the following code?\n",
    "\n",
    "nums = set([1,1,2,3,3,3,4,4])\n",
    "print(len(nums))"
   ]
  },
  {
   "cell_type": "code",
   "execution_count": 2,
   "id": "14f26b96",
   "metadata": {},
   "outputs": [
    {
     "name": "stdout",
     "output_type": "stream",
     "text": [
      "['john', 'peter']\n"
     ]
    }
   ],
   "source": [
    "#2. What will be the output?\n",
    "\n",
    "d = {\"john\":40, \"peter\":45}\n",
    "print(list(d.keys()))"
   ]
  },
  {
   "cell_type": "code",
   "execution_count": 3,
   "id": "6dbdd001",
   "metadata": {},
   "outputs": [
    {
     "name": "stdout",
     "output_type": "stream",
     "text": [
      "Element at position 0 is: 4\n",
      "Element at position 1 is: 7\n",
      "Element at position 2 is: 3\n",
      "Element at position 3 is: 2\n",
      "Element at position 4 is: 5\n",
      "Element at position 5 is: 9\n"
     ]
    }
   ],
   "source": [
    "#3. Write a for loop that prints all elements of a list and their position in the list.\n",
    "\n",
    "a = [4, 7, 3, 2, 5, 9]\n",
    "for i, ele in enumerate(a):\n",
    "    print(f\"Element at position {i} is: {ele}\")"
   ]
  },
  {
   "cell_type": "code",
   "execution_count": 4,
   "id": "14a44446",
   "metadata": {},
   "outputs": [
    {
     "name": "stdout",
     "output_type": "stream",
     "text": [
      "Enter a string: ti\n",
      "Output: t\n"
     ]
    }
   ],
   "source": [
    "#4.Please write a program which accepts a string from console and print the characters that have even indexes.\n",
    "\n",
    "val = input(\"Enter a string: \")\n",
    "result = val[::2]\n",
    "print(\"Output:\", result)"
   ]
  },
  {
   "cell_type": "code",
   "execution_count": 6,
   "id": "4af08124",
   "metadata": {},
   "outputs": [
    {
     "name": "stdout",
     "output_type": "stream",
     "text": [
      "Enter a string: ui\n",
      "Output: iu\n"
     ]
    }
   ],
   "source": [
    "#5.Please write a program which accepts a string from console and print it in reverse order.\n",
    "\n",
    "val = input(\"Enter a string: \")\n",
    "result = val[::-1]\n",
    "print(\"Output:\", result)"
   ]
  },
  {
   "cell_type": "code",
   "execution_count": 7,
   "id": "310f6e58",
   "metadata": {},
   "outputs": [
    {
     "name": "stdout",
     "output_type": "stream",
     "text": [
      "Enter a string: eyt\n",
      "Character Counts:\n",
      "e,1\n",
      "y,1\n",
      "t,1\n"
     ]
    }
   ],
   "source": [
    "#6.Please write a program which count and print the numbers of each character in a string input by console.\n",
    "\n",
    "input_string = input(\"Enter a string: \")\n",
    "char_count = {}\n",
    "for char in input_string:\n",
    "    if char in char_count:\n",
    "        char_count[char] += 1\n",
    "    else:\n",
    "        char_count[char] = 1\n",
    "print(\"Character Counts:\")\n",
    "for char, count in char_count.items():\n",
    "    print(f\"{char},{count}\")"
   ]
  },
  {
   "cell_type": "code",
   "execution_count": 8,
   "id": "e8cf93cd",
   "metadata": {},
   "outputs": [
    {
     "name": "stdout",
     "output_type": "stream",
     "text": [
      "[35]\n"
     ]
    }
   ],
   "source": [
    "#7.With two given lists [1,3,6,78,35,55] and [12,24,35,24,88,120,155], write a program to make a list whose elements are intersection of the above given lists.\n",
    "\n",
    "list1 = [1, 3, 6, 78, 35, 55]\n",
    "list2 = [12, 24, 35, 24, 88, 120, 155]\n",
    "set1 = set(list1)\n",
    "set2 = set(list2)\n",
    "intersection_list = list(set1.intersection(set2))\n",
    "print(intersection_list)"
   ]
  },
  {
   "cell_type": "code",
   "execution_count": 9,
   "id": "fcb8bc67",
   "metadata": {},
   "outputs": [
    {
     "name": "stdout",
     "output_type": "stream",
     "text": [
      "[12, 35, 88, 120, 155]\n"
     ]
    }
   ],
   "source": [
    "#8.Write a program to print the list after removing the value 24 in [12,24,35,24,88,120,155].\n",
    "\n",
    "li = [12, 24, 35, 24, 88, 120, 155]\n",
    "li = [x for x in li if x != 24]\n",
    "print(li)"
   ]
  },
  {
   "cell_type": "code",
   "execution_count": 10,
   "id": "7addaf28",
   "metadata": {},
   "outputs": [
    {
     "name": "stdout",
     "output_type": "stream",
     "text": [
      "[24, 35, 70, 155]\n"
     ]
    }
   ],
   "source": [
    "#9. Write a program to print the list after removing the 0th,4th,5th numbers in [12,24,35,70,88,120,155].\n",
    "\n",
    "original_list = [12, 24, 35, 70, 88, 120, 155]\n",
    "indices_to_remove = [0, 4, 5]\n",
    "filtered_list = [value for index, value in enumerate(original_list) if index not in indices_to_remove]\n",
    "print(filtered_list)"
   ]
  },
  {
   "cell_type": "code",
   "execution_count": 11,
   "id": "95f84485",
   "metadata": {},
   "outputs": [
    {
     "name": "stdout",
     "output_type": "stream",
     "text": [
      "[12, 24, 88, 120, 155]\n"
     ]
    }
   ],
   "source": [
    "#10. Write a program to print the list after removing delete numbers which are divisible by 5 and 7 in [12,24,35,70,88,120,155].\n",
    "\n",
    "li = [12, 24, 35, 70, 88, 120, 155]\n",
    "li = [x for x in li if not (x % 5 == 0 and x % 7 == 0)]\n",
    "print(li)"
   ]
  },
  {
   "cell_type": "code",
   "execution_count": 12,
   "id": "228d528b",
   "metadata": {},
   "outputs": [
    {
     "name": "stdout",
     "output_type": "stream",
     "text": [
      "Enter a value for n (n > 0): 5\n",
      "The result of the series is: 3.55\n"
     ]
    }
   ],
   "source": [
    "#11. Write a program to compute 1/2+2/3+3/4+...+n/n+1 with a given n input by console (n>0).\n",
    "\n",
    "n = int(input(\"Enter a value for n (n > 0): \"))\n",
    "result = 0.0\n",
    "if n > 0:\n",
    "    for i in range(1, n + 1):\n",
    "        result += i / (i + 1)\n",
    "    print(f\"The result of the series is: {result:.2f}\")\n",
    "else:\n",
    "    print(\"Please enter a valid value for n (n > 0).\")"
   ]
  }
 ],
 "metadata": {
  "kernelspec": {
   "display_name": "Python 3 (ipykernel)",
   "language": "python",
   "name": "python3"
  },
  "language_info": {
   "codemirror_mode": {
    "name": "ipython",
    "version": 3
   },
   "file_extension": ".py",
   "mimetype": "text/x-python",
   "name": "python",
   "nbconvert_exporter": "python",
   "pygments_lexer": "ipython3",
   "version": "3.11.5"
  }
 },
 "nbformat": 4,
 "nbformat_minor": 5
}
